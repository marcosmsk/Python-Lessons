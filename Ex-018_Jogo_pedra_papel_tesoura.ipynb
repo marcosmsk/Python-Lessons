{
 "cells": [
  {
   "cell_type": "markdown",
   "id": "094be27d",
   "metadata": {},
   "source": [
    "### Ex-018: Jogo Pedra, Papel e Tesoura\n",
    "\n",
    "Elabore um jogo: Pedra, Papel e Tesoura\n",
    "\n",
    "Exercícios de videos by 'Curso em Video'"
   ]
  },
  {
   "cell_type": "code",
   "execution_count": 32,
   "id": "16394cd3",
   "metadata": {},
   "outputs": [
    {
     "name": "stdout",
     "output_type": "stream",
     "text": [
      "Escolha: \n",
      "[0] PEDRA\n",
      "[1] PAPEL\n",
      "[2] TESOURA\n",
      "1\n",
      "====================\n",
      "Jogador: papel\n",
      "PC papel\n",
      "====================\n",
      "\u001b[1;32mEmpatamos!\u001b[m\n"
     ]
    }
   ],
   "source": [
    "from random import randint\n",
    "\n",
    "item = ('pedra', 'papel', 'tesoura')\n",
    "pc = randint(0,2)\n",
    "#leia-se \"item na posição pc\"\n",
    "#print(item[pc])\n",
    "\n",
    "jogador = int(input('''Escolha: \n",
    "[0] PEDRA\n",
    "[1] PAPEL\n",
    "[2] TESOURA\n",
    "'''))\n",
    "print('='*20)\n",
    "print('Jogador:',item[jogador])\n",
    "print('PC',item[pc])\n",
    "print('='*20)\n",
    "if pc == 0 and jogador == 1 or pc == 1 and jogador == 2 or pc == 2 and jogador == 0:\n",
    "    print('\\033[1mVocê venceu!\\033[m')\n",
    "elif pc == 0 and jogador == 2 or pc == 1 and jogador == 0 or pc == 2 and jogador == 1:\n",
    "    print('\\033[1;34mO PC venceu!\\033[m')\n",
    "else:\n",
    "    print('\\033[1;32mEmpatamos!\\033[m')"
   ]
  }
 ],
 "metadata": {
  "kernelspec": {
   "display_name": "Python 3 (ipykernel)",
   "language": "python",
   "name": "python3"
  },
  "language_info": {
   "codemirror_mode": {
    "name": "ipython",
    "version": 3
   },
   "file_extension": ".py",
   "mimetype": "text/x-python",
   "name": "python",
   "nbconvert_exporter": "python",
   "pygments_lexer": "ipython3",
   "version": "3.9.12"
  }
 },
 "nbformat": 4,
 "nbformat_minor": 5
}
