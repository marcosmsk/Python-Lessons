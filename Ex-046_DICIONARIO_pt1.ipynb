{
 "cells": [
  {
   "cell_type": "markdown",
   "id": "b028c421",
   "metadata": {},
   "source": [
    "### Ex-046: DICIONÁRIOS - Introdução\n",
    "\n",
    "Exercícios de videos by 'Curso em Video'"
   ]
  },
  {
   "cell_type": "markdown",
   "id": "94131992",
   "metadata": {},
   "source": [
    "##### 1\n",
    "\n",
    "Faça um programa que leia NOME e MÉDIA de um aluno, guardando também a situação em um DICIONÁRIO. No final, mostre o conteúdo da estrutura na tela."
   ]
  },
  {
   "cell_type": "code",
   "execution_count": 4,
   "id": "b804dfe4",
   "metadata": {},
   "outputs": [
    {
     "name": "stdout",
     "output_type": "stream",
     "text": [
      "Nome: Ana\n",
      "Média do(a) Ana: 8\n",
      " - nome: Ana\n",
      " - media: 8.0\n",
      " - situacao: aprovado\n",
      "O(A) aluno(a) Ana apresentou a média 8.0 e sua situação é aprovado.\n"
     ]
    }
   ],
   "source": [
    "aluno = dict()\n",
    "aluno['nome'] = str(input('Nome: ')).strip()\n",
    "aluno['media'] = float(input(f'Média do(a) {aluno[\"nome\"]}: '))\n",
    "if aluno['media'] >= 7:\n",
    "    aluno['situacao'] = 'aprovado'\n",
    "elif 5 <= aluno['media'] < 7:\n",
    "    aluno['situacao'] = 'recuperação'\n",
    "else:\n",
    "    aluno['situacao'] = 'reprovado'\n",
    "    \n",
    "for k, v in aluno.items():\n",
    "    print(f' - {k}: {v}')\n",
    "\n",
    "print(f'O(A) aluno(a) {aluno[\"nome\"]} apresentou a média {aluno[\"media\"]} e sua situação é {aluno[\"situacao\"]}.')"
   ]
  },
  {
   "cell_type": "markdown",
   "id": "01b9d82f",
   "metadata": {},
   "source": []
  },
  {
   "cell_type": "code",
   "execution_count": 11,
   "id": "5b6eb0c1",
   "metadata": {},
   "outputs": [
    {
     "name": "stdout",
     "output_type": "stream",
     "text": [
      "Jogador1 tirou o número 3 no dado\n",
      "Jogador2 tirou o número 5 no dado\n",
      "Jogador3 tirou o número 4 no dado\n",
      "Jogador4 tirou o número 4 no dado\n",
      "[('Jogador2', 5), ('Jogador3', 4), ('Jogador4', 4), ('Jogador1', 3)]\n",
      "Valores sorteados:\n",
      "1º lugar: Jogador2 com 5 pontos\n",
      "2º lugar: Jogador3 com 4 pontos\n",
      "3º lugar: Jogador4 com 4 pontos\n",
      "4º lugar: Jogador1 com 3 pontos\n"
     ]
    }
   ],
   "source": [
    "from random import randint\n",
    "from time import sleep\n",
    "from operator import itemgetter\n",
    "\n",
    "jogo = {'Jogador1': randint(1, 6),\n",
    "        'Jogador2': randint(1, 6),\n",
    "        'Jogador3': randint(1, 6),\n",
    "        'Jogador4': randint(1, 6)}\n",
    "\n",
    "#print(jogo)\n",
    "\n",
    "ranking = list()\n",
    "\n",
    "for k, v in jogo.items():\n",
    "    print(f'{k} tirou o número {v} no dado')\n",
    "    sleep(1)\n",
    "#sorted() -> serve para ordenar a lista / key=itemgetter(1) pega a chave nº1 para ser ordenado \n",
    "ranking = sorted(jogo.items(), key=itemgetter(1), reverse=True)\n",
    "print(ranking)\n",
    "\n",
    "print('Valores sorteados:')\n",
    "for i, v in enumerate(ranking):\n",
    "    print(f'{i+1}º lugar: {v[0]} com {v[1]} pontos')\n"
   ]
  }
 ],
 "metadata": {
  "kernelspec": {
   "display_name": "Python 3 (ipykernel)",
   "language": "python",
   "name": "python3"
  },
  "language_info": {
   "codemirror_mode": {
    "name": "ipython",
    "version": 3
   },
   "file_extension": ".py",
   "mimetype": "text/x-python",
   "name": "python",
   "nbconvert_exporter": "python",
   "pygments_lexer": "ipython3",
   "version": "3.9.12"
  }
 },
 "nbformat": 4,
 "nbformat_minor": 5
}
