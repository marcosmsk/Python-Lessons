{
 "cells": [
  {
   "cell_type": "markdown",
   "id": "2f6556bd",
   "metadata": {},
   "source": [
    "### Ex-057: Funções - Exercício\n",
    "\n",
    "##### FICHA JOGADOR\n",
    "\n",
    "Faça um programa que tenha uma função chamada ficha(), que receba dois parâmetros opcionais: o nome de um jogador e quantos gols ele marcou. O programa deverá ser capaz de mostrar a ficha do jogador, mesmo que algum dado não tenha sido informado corretamente.\n",
    "\n",
    "Exercícios de videos by 'Curso em Video'"
   ]
  },
  {
   "cell_type": "code",
   "execution_count": 4,
   "id": "f2363a9d",
   "metadata": {},
   "outputs": [
    {
     "name": "stdout",
     "output_type": "stream",
     "text": [
      "Nome do Jogador: Kaka\n",
      "Nº de gols: \n",
      "O jogador Kaka fez 0 gols.\n"
     ]
    }
   ],
   "source": [
    "#Função\n",
    "def ficha(nome='', gol=''):\n",
    "    if nome == '':\n",
    "        nome = '<desconhecido>'\n",
    "    if not gol.isdigit():\n",
    "        gol = 0\n",
    "    print(f'O jogador {nome} fez {gol} gols.')\n",
    "\n",
    "# Programa Principal\n",
    "nome = str(input('Nome do Jogador: '))\n",
    "gol = str(input('Nº de gols: '))\n",
    "ficha(nome, gol)"
   ]
  }
 ],
 "metadata": {
  "kernelspec": {
   "display_name": "Python 3 (ipykernel)",
   "language": "python",
   "name": "python3"
  },
  "language_info": {
   "codemirror_mode": {
    "name": "ipython",
    "version": 3
   },
   "file_extension": ".py",
   "mimetype": "text/x-python",
   "name": "python",
   "nbconvert_exporter": "python",
   "pygments_lexer": "ipython3",
   "version": "3.9.12"
  }
 },
 "nbformat": 4,
 "nbformat_minor": 5
}
