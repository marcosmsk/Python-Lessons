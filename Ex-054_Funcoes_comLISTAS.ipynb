{
 "cells": [
  {
   "cell_type": "markdown",
   "id": "2f6556bd",
   "metadata": {},
   "source": [
    "### Ex-054: Funções - Exercício\n",
    "\n",
    "Faça um programa que tenha uma LISTA chamada numeros = [] e duas funções chamadas sorteia() e somaPar(). A primeira função vai sortear 5 números e vai colocá-los dentro da lista e a segunda função vai mostrar a soma entre todos os valores PARES sorteados pela função anterior.\n",
    "\n",
    "Exercícios de videos by 'Curso em Video'"
   ]
  },
  {
   "cell_type": "code",
   "execution_count": 12,
   "id": "5d36c391",
   "metadata": {},
   "outputs": [
    {
     "name": "stdout",
     "output_type": "stream",
     "text": [
      "~~~~~~~~~~~~~~~~~~~~~~~~~~~~~~~~~~~~~~~~~~~~~~~~~~\n",
      "Foram apresentado(s) o(s) seguinte(s) valor(es):\n",
      " 1  5  8  9  0 \n",
      "O maior valor é: 9\n",
      "~~~~~~~~~~~~~~~~~~~~~~~~~~~~~~~~~~~~~~~~~~~~~~~~~~\n",
      "Foram apresentado(s) o(s) seguinte(s) valor(es):\n",
      " 6  3 \n",
      "O maior valor é: 6\n",
      "~~~~~~~~~~~~~~~~~~~~~~~~~~~~~~~~~~~~~~~~~~~~~~~~~~\n",
      "Foram apresentado(s) o(s) seguinte(s) valor(es):\n",
      " 2 \n",
      "O maior valor é: 2\n",
      "~~~~~~~~~~~~~~~~~~~~~~~~~~~~~~~~~~~~~~~~~~~~~~~~~~\n",
      "Foram apresentado(s) o(s) seguinte(s) valor(es):\n",
      "\n",
      "O maior valor é: 0\n",
      "\n",
      "FIM do programa!\n"
     ]
    }
   ],
   "source": [
    "from time import sleep\n",
    "\n",
    "def maior(*num):\n",
    "    cont = maior = 0\n",
    "    print('~' * 50)\n",
    "    print(f'Foram apresentado(s) o(s) seguinte(s) valor(es):')\n",
    "    for valor in num:\n",
    "        print(f' {valor}', end=' ')\n",
    "        if cont == 0:\n",
    "            maior = valor\n",
    "        else:\n",
    "            if valor > maior:\n",
    "                maior = valor\n",
    "        cont += 1\n",
    "    print(f'\\nO maior valor é: {maior}')\n",
    "        \n",
    "# Programa Principal\n",
    "maior(1, 5, 8, 9, 0)\n",
    "maior(6, 3)\n",
    "maior(2)\n",
    "maior()\n",
    "\n",
    "print('\\nFIM do programa!')    "
   ]
  },
  {
   "cell_type": "code",
   "execution_count": 13,
   "id": "b6002075",
   "metadata": {},
   "outputs": [
    {
     "name": "stdout",
     "output_type": "stream",
     "text": [
      "Sorteando números...\n",
      "6 1 6 3 1 fim!\n",
      "A soma dos valores pares da lista é: 12.\n"
     ]
    }
   ],
   "source": [
    "#modulos\n",
    "from random import randint\n",
    "from time import sleep\n",
    "\n",
    "#lista de números\n",
    "numeros = []\n",
    "\n",
    "#funções\n",
    "def sorteia(lista):\n",
    "    print('Sorteando números...')\n",
    "    sleep(1)\n",
    "    for i in range(0, 5):\n",
    "        n = randint(1, 10)\n",
    "        lista.append(n)\n",
    "        print(f'{n} ', end='', flush=True)\n",
    "        sleep(0.3)\n",
    "    print('fim!')\n",
    "\n",
    "def somaPar(lista):\n",
    "    soma = 0\n",
    "    for i, n in enumerate(lista):\n",
    "        if n % 2 == 0:\n",
    "            soma = soma + n\n",
    "        i += 1\n",
    "    print(f'A soma dos valores pares da lista é: {soma}.')\n",
    "\n",
    "        \n",
    "#Programa principal\n",
    "sorteia(numeros)\n",
    "somaPar(numeros)"
   ]
  }
 ],
 "metadata": {
  "kernelspec": {
   "display_name": "Python 3 (ipykernel)",
   "language": "python",
   "name": "python3"
  },
  "language_info": {
   "codemirror_mode": {
    "name": "ipython",
    "version": 3
   },
   "file_extension": ".py",
   "mimetype": "text/x-python",
   "name": "python",
   "nbconvert_exporter": "python",
   "pygments_lexer": "ipython3",
   "version": "3.9.12"
  }
 },
 "nbformat": 4,
 "nbformat_minor": 5
}
