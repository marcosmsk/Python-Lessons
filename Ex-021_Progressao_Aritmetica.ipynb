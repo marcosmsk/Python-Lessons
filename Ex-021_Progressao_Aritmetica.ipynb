{
 "cells": [
  {
   "cell_type": "markdown",
   "id": "094be27d",
   "metadata": {},
   "source": [
    "### Ex-021: Progressão Aritmética\n",
    "\n",
    "Elabore um programa em que o usuário infomará o primeiro número da PA e a sua Razão e o programa irá imprimir a PA dos 10 primeiros valores\n",
    "\n",
    "Exercícios de videos by 'Curso em Video'"
   ]
  },
  {
   "cell_type": "code",
   "execution_count": 2,
   "id": "ebff8bcd",
   "metadata": {},
   "outputs": [
    {
     "name": "stdout",
     "output_type": "stream",
     "text": [
      "Primeiro numero: 2\n",
      "Razão: 2\n",
      "2 >> 4 >> 6 >> 8 >> 10 >> 12 >> 14 >> 16 >> 18 >> 20 >> "
     ]
    }
   ],
   "source": [
    "#PRIMEIRO MÉTODO\n",
    "\n",
    "a1 = int(input('Primeiro numero: '))\n",
    "razao = int(input('Razão: '))\n",
    "a10 = a1 + (10 - 1) * razao\n",
    "\n",
    "for num in range(a1, a10+razao, razao):\n",
    "    print(num, end=' >> ')\n",
    "print('FIM!')"
   ]
  },
  {
   "cell_type": "code",
   "execution_count": null,
   "id": "464404e7",
   "metadata": {},
   "outputs": [],
   "source": [
    "#SEGUNDO MÉTODO\n"
   ]
  }
 ],
 "metadata": {
  "kernelspec": {
   "display_name": "Python 3 (ipykernel)",
   "language": "python",
   "name": "python3"
  },
  "language_info": {
   "codemirror_mode": {
    "name": "ipython",
    "version": 3
   },
   "file_extension": ".py",
   "mimetype": "text/x-python",
   "name": "python",
   "nbconvert_exporter": "python",
   "pygments_lexer": "ipython3",
   "version": "3.9.12"
  }
 },
 "nbformat": 4,
 "nbformat_minor": 5
}
