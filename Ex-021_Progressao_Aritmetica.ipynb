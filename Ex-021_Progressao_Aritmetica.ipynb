{
 "cells": [
  {
   "cell_type": "markdown",
   "id": "094be27d",
   "metadata": {},
   "source": [
    "### Ex-021: Progressão Aritmética\n",
    "\n",
    "Elabore um programa em que o usuário infomará o primeiro número da PA e a sua Razão e o programa irá imprimir a PA dos 10 primeiros valores\n",
    "\n",
    "Exercícios de videos by 'Curso em Video'"
   ]
  },
  {
   "cell_type": "code",
   "execution_count": 2,
   "id": "ebff8bcd",
   "metadata": {},
   "outputs": [
    {
     "name": "stdout",
     "output_type": "stream",
     "text": [
      "Primeiro numero: 2\n",
      "Razão: 2\n",
      "2 >> 4 >> 6 >> 8 >> 10 >> 12 >> 14 >> 16 >> 18 >> 20 >> "
     ]
    }
   ],
   "source": [
    "#PRIMEIRO MÉTODO usando FOR\n",
    "\n",
    "a1 = int(input('Primeiro termo: '))\n",
    "razao = int(input('Razão: '))\n",
    "a10 = a1 + (10 - 1) * razao\n",
    "\n",
    "for num in range(a1, a10+razao, razao):\n",
    "    print(num, end=' >> ')\n",
    "print('FIM!')"
   ]
  },
  {
   "cell_type": "code",
   "execution_count": 6,
   "id": "464404e7",
   "metadata": {},
   "outputs": [
    {
     "name": "stdout",
     "output_type": "stream",
     "text": [
      "Primeiro termo: 1\n",
      "Razão: 5\n",
      "1  >>  6  >>  11  >>  16  >>  21  >>  26  >>  31  >>  36  >>  41  >>  46  =  FIM\n"
     ]
    }
   ],
   "source": [
    "#SEGUNDO MÉTODO usando o WHILE\n",
    "\n",
    "a1 = int(input('Primeiro termo: '))\n",
    "razao = int(input('Razão: '))\n",
    "#termo começa com o primeiro termo e o contador vai auxiliar mostrar os 10 primeiros termos\n",
    "termo = a1\n",
    "cont = 1\n",
    "while cont <= 10:\n",
    "    #print('{}'.format(a1, end=' '))\n",
    "    print('{}'.format(termo), end =' ')\n",
    "    print(' >> ' if cont < 10 else ' = ', end = ' ')\n",
    "    termo += razao\n",
    "    cont += 1\n",
    "print('FIM')    \n",
    "    "
   ]
  },
  {
   "cell_type": "code",
   "execution_count": 1,
   "id": "d523c857",
   "metadata": {},
   "outputs": [
    {
     "name": "stdout",
     "output_type": "stream",
     "text": [
      "Primeiro termo: 5\n",
      "Razão: 5\n",
      "5  >>  10  >>  15  >>  20  >>  25  >>  30  >>  35  >>  40  >>  45  >>  50  =  PAUSA\n",
      "Quantos termos você que mostrar a mais? 5\n",
      "55  >>  60  >>  65  >>  70  >>  75  =  PAUSA\n",
      "Quantos termos você que mostrar a mais? 0\n",
      "FIM!\n"
     ]
    }
   ],
   "source": [
    "#PA com o usuário podendo escolher a quantidade de termos que se deseja\n",
    "\n",
    "a1 = int(input('Primeiro termo: '))\n",
    "razao = int(input('Razão: '))\n",
    "termo = a1\n",
    "cont = 1\n",
    "total = 0\n",
    "mais_termos = 10\n",
    "while mais_termos != 0:\n",
    "    total = total + mais_termos\n",
    "    while cont <= total:\n",
    "        print('{}'.format(termo), end =' ')\n",
    "        print(' >> ' if cont < total else ' = ', end = ' ')\n",
    "        termo += razao\n",
    "        cont += 1\n",
    "    print('PAUSA')\n",
    "    mais_termos = int(input('Quantos termos você que mostrar a mais? (Digite '0' para encerrar) '))\n",
    "print('FIM!')"
   ]
  }
 ],
 "metadata": {
  "kernelspec": {
   "display_name": "Python 3 (ipykernel)",
   "language": "python",
   "name": "python3"
  },
  "language_info": {
   "codemirror_mode": {
    "name": "ipython",
    "version": 3
   },
   "file_extension": ".py",
   "mimetype": "text/x-python",
   "name": "python",
   "nbconvert_exporter": "python",
   "pygments_lexer": "ipython3",
   "version": "3.9.12"
  }
 },
 "nbformat": 4,
 "nbformat_minor": 5
}
