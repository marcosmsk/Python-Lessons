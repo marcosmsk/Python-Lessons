{
 "cells": [
  {
   "cell_type": "markdown",
   "id": "b028c421",
   "metadata": {},
   "source": [
    "### Ex-029: Exercício de While\n",
    "\n",
    "Elabore um programa que seja capaz limitar a digitação do usuário ao informar o sexo em apenas M ou F\n",
    "\n",
    "Exercícios de videos by 'Curso em Video'"
   ]
  },
  {
   "cell_type": "code",
   "execution_count": 17,
   "id": "49019107",
   "metadata": {},
   "outputs": [
    {
     "name": "stdout",
     "output_type": "stream",
     "text": [
      "Primeiro Valor: 4\n",
      "Segundo Valor: 5\n",
      "    [1] somar\n",
      "    [2] multiplicar\n",
      "    [3] maior valor\n",
      "    [4] novos números\n",
      "    [5] sair do programa\n",
      "Selecione uma das opções acima: 1\n",
      "Soma: 9.0\n",
      "-=--=--=--=--=--=--=--=--=--=-\n",
      "    [1] somar\n",
      "    [2] multiplicar\n",
      "    [3] maior valor\n",
      "    [4] novos números\n",
      "    [5] sair do programa\n",
      "Selecione uma das opções acima: 2\n",
      "Multiplicação: 20.0\n",
      "-=--=--=--=--=--=--=--=--=--=-\n",
      "    [1] somar\n",
      "    [2] multiplicar\n",
      "    [3] maior valor\n",
      "    [4] novos números\n",
      "    [5] sair do programa\n",
      "Selecione uma das opções acima: 3\n",
      "Maior: 5.0\n",
      "-=--=--=--=--=--=--=--=--=--=-\n",
      "    [1] somar\n",
      "    [2] multiplicar\n",
      "    [3] maior valor\n",
      "    [4] novos números\n",
      "    [5] sair do programa\n",
      "Selecione uma das opções acima: 4\n",
      "Primeiro Valor: 5\n",
      "Segundo Valor: 6\n",
      "-=--=--=--=--=--=--=--=--=--=-\n",
      "    [1] somar\n",
      "    [2] multiplicar\n",
      "    [3] maior valor\n",
      "    [4] novos números\n",
      "    [5] sair do programa\n",
      "Selecione uma das opções acima: 5\n",
      "Finalizando...\n",
      "-=--=--=--=--=--=--=--=--=--=-\n",
      "fim\n"
     ]
    }
   ],
   "source": [
    "from time import sleep\n",
    "\n",
    "n1 = float(input('Primeiro Valor: '))\n",
    "n2 = float(input('Segundo Valor: '))\n",
    "opcao = 0\n",
    "\n",
    "while opcao != 5:\n",
    "    print('''    [1] somar\n",
    "    [2] multiplicar\n",
    "    [3] maior valor\n",
    "    [4] novos números\n",
    "    [5] sair do programa''')\n",
    "    opcao = int(input('Selecione uma das opções acima: '))\n",
    "    if opcao == 1:\n",
    "        soma = n1 + n2\n",
    "        print('Soma: {}'.format(soma))\n",
    "    elif opcao == 2:\n",
    "        multi = n1 * n2\n",
    "        print('Multiplicação: {}'.format(multi))\n",
    "    elif opcao == 3:\n",
    "        if n1 > n2:\n",
    "            print('Maior: {}'.format(n1))\n",
    "        elif n1 < n2:\n",
    "            print('Maior: {}'.format(n2))\n",
    "        else:\n",
    "            print('são iguais')\n",
    "    elif opcao == 4:\n",
    "        n1 = float(input('Primeiro Valor: '))\n",
    "        n2 = float(input('Segundo Valor: '))\n",
    "    elif opcao == 5:\n",
    "        print('Finalizando...')\n",
    "    else:\n",
    "        print('Opção inválida!')\n",
    "    print('-=-'*11)\n",
    "    sleep(2)\n",
    "print('Até breve!')"
   ]
  }
 ],
 "metadata": {
  "kernelspec": {
   "display_name": "Python 3 (ipykernel)",
   "language": "python",
   "name": "python3"
  },
  "language_info": {
   "codemirror_mode": {
    "name": "ipython",
    "version": 3
   },
   "file_extension": ".py",
   "mimetype": "text/x-python",
   "name": "python",
   "nbconvert_exporter": "python",
   "pygments_lexer": "ipython3",
   "version": "3.9.12"
  }
 },
 "nbformat": 4,
 "nbformat_minor": 5
}
