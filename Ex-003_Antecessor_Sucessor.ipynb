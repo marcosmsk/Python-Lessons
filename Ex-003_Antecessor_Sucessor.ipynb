{
 "cells": [
  {
   "cell_type": "markdown",
   "id": "318d7aba",
   "metadata": {},
   "source": [
    "### Ex-003: Antecessor e Sucessor\n",
    "\n",
    "Faça um programa que leia um número INTEIRO e mostre na tela o seu sucessor e seu antecessor\n",
    "\n",
    "Exercícios de videos by 'Curso em Video'"
   ]
  },
  {
   "cell_type": "code",
   "execution_count": 1,
   "id": "437b3b55",
   "metadata": {},
   "outputs": [
    {
     "name": "stdout",
     "output_type": "stream",
     "text": [
      "Digite um número inteiro: 5\n",
      "O sucessor do número 5 é 6 e seu antecessor é 4.\n"
     ]
    }
   ],
   "source": [
    "n = int(input('Digite um número inteiro: '))\n",
    "print('O sucessor do número {} é {} e seu antecessor é {}.'.format(n, n+1, n-1))"
   ]
  }
 ],
 "metadata": {
  "kernelspec": {
   "display_name": "Python 3 (ipykernel)",
   "language": "python",
   "name": "python3"
  },
  "language_info": {
   "codemirror_mode": {
    "name": "ipython",
    "version": 3
   },
   "file_extension": ".py",
   "mimetype": "text/x-python",
   "name": "python",
   "nbconvert_exporter": "python",
   "pygments_lexer": "ipython3",
   "version": "3.9.12"
  }
 },
 "nbformat": 4,
 "nbformat_minor": 5
}
