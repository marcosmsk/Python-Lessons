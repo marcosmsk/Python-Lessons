{
 "cells": [
  {
   "cell_type": "markdown",
   "id": "b028c421",
   "metadata": {},
   "source": [
    "### Ex-025: Ler Maior e Menor Valores\n",
    "\n",
    "Elabore um programa que seja capaz de escolher o maior e o menor valor informado\n",
    "\n",
    "Exercícios de videos by 'Curso em Video'"
   ]
  },
  {
   "cell_type": "code",
   "execution_count": 2,
   "id": "5eebff07",
   "metadata": {},
   "outputs": [
    {
     "name": "stdout",
     "output_type": "stream",
     "text": [
      "Digite o peso da 1ª pessoa: 50\n",
      "Digite o peso da 2ª pessoa: 60\n",
      "Digite o peso da 3ª pessoa: 80\n",
      "Digite o peso da 4ª pessoa: 200\n",
      "O maior peso informado é 200.0kg.\n",
      "O menor peso informado é 50.0kg.\n"
     ]
    }
   ],
   "source": [
    "maior = 0\n",
    "menor = 0\n",
    "for pessoa in range(1, 5):\n",
    "    peso = float(input('Digite o peso da {}ª pessoa: '.format(pessoa)))\n",
    "    if pessoa == 1:\n",
    "        maior = peso\n",
    "        menor = peso\n",
    "    else:\n",
    "        if peso > maior:\n",
    "            maior = peso\n",
    "        if peso < menor:\n",
    "            menor = peso\n",
    "\n",
    "print('O maior peso informado é {}kg.'.format(maior))\n",
    "print('O menor peso informado é {}kg.'.format(menor))"
   ]
  }
 ],
 "metadata": {
  "kernelspec": {
   "display_name": "Python 3 (ipykernel)",
   "language": "python",
   "name": "python3"
  },
  "language_info": {
   "codemirror_mode": {
    "name": "ipython",
    "version": 3
   },
   "file_extension": ".py",
   "mimetype": "text/x-python",
   "name": "python",
   "nbconvert_exporter": "python",
   "pygments_lexer": "ipython3",
   "version": "3.9.12"
  }
 },
 "nbformat": 4,
 "nbformat_minor": 5
}
