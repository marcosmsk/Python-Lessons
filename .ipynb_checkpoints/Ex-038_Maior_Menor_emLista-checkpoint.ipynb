{
 "cells": [
  {
   "cell_type": "markdown",
   "id": "b028c421",
   "metadata": {},
   "source": [
    "### Ex-038: Maior e Menor em LISTA\n",
    "\n",
    "Crie um programa que leia 5 valores numéricos e guarde-os em uma lista. No final, mostre quel foi o maior e o menor valor digitado e as suas respectivas posições na lista.\n",
    "\n",
    "Exercícios de videos by 'Curso em Video'"
   ]
  },
  {
   "cell_type": "code",
   "execution_count": 9,
   "id": "1f808953",
   "metadata": {},
   "outputs": [
    {
     "name": "stdout",
     "output_type": "stream",
     "text": [
      "Digite um valor para a posição 0: 5\n",
      "Digite um valor para a posição 1: 6\n",
      "Digite um valor para a posição 2: 2\n",
      "Digite um valor para a posição 3: 0\n",
      "Digite um valor para a posição 4: 8\n",
      "A sua lista apresenta os seguintes valores: [5, 6, 2, 0, 8].\n",
      "O maior valor da lista é: 8\n",
      "O menor valor da lista é: 0\n"
     ]
    }
   ],
   "source": [
    "lista = []\n",
    "maior = menor = 0\n",
    "for i in range(0, 5):\n",
    "    valor = int(input('Digite um valor para a posição {}: '.format(i)))\n",
    "    lista.append(valor)\n",
    "    if i == 0:\n",
    "        maior = menor = lista[0]\n",
    "    else:\n",
    "        if lista[i] > maior:\n",
    "            maior = lista[i]\n",
    "        elif lista[i] < menor:\n",
    "            menor = lista[i]\n",
    "        \n",
    "print('A sua lista apresenta os seguintes valores: {}.'.format(lista))\n",
    "print('O maior valor da lista é: {}'.format(maior))\n",
    "print('O menor valor da lista é: {}'.format(menor))\n"
   ]
  },
  {
   "cell_type": "code",
   "execution_count": null,
   "id": "8caf97d5",
   "metadata": {},
   "outputs": [],
   "source": []
  }
 ],
 "metadata": {
  "kernelspec": {
   "display_name": "Python 3 (ipykernel)",
   "language": "python",
   "name": "python3"
  },
  "language_info": {
   "codemirror_mode": {
    "name": "ipython",
    "version": 3
   },
   "file_extension": ".py",
   "mimetype": "text/x-python",
   "name": "python",
   "nbconvert_exporter": "python",
   "pygments_lexer": "ipython3",
   "version": "3.9.12"
  }
 },
 "nbformat": 4,
 "nbformat_minor": 5
}
