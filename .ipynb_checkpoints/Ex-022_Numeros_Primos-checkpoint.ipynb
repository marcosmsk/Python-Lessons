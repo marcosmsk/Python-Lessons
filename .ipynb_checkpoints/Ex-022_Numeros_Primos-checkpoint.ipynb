{
 "cells": [
  {
   "cell_type": "markdown",
   "id": "094be27d",
   "metadata": {},
   "source": [
    "### Ex-022: Números Primos\n",
    "\n",
    "Elabore um programa que leia um número inteiro e informará se é um número primo ou não\n",
    "\n",
    "Exercícios de videos by 'Curso em Video'"
   ]
  },
  {
   "cell_type": "code",
   "execution_count": 16,
   "id": "ebff8bcd",
   "metadata": {},
   "outputs": [
    {
     "name": "stdout",
     "output_type": "stream",
     "text": [
      "Digite um número para verificar se ele é primo: 20\n",
      "\u001b[34m1 \u001b[34m2 \u001b[33m3 \u001b[34m4 \u001b[34m5 \u001b[33m6 \u001b[33m7 \u001b[33m8 \u001b[33m9 \u001b[34m10 \u001b[33m11 \u001b[33m12 \u001b[33m13 \u001b[33m14 \u001b[33m15 \u001b[33m16 \u001b[33m17 \u001b[33m18 \u001b[33m19 \u001b[34m20 \n",
      "\u001b[mO numero 20 foi divisível 6 vezes.\n",
      "O número digitado não é primo\n"
     ]
    }
   ],
   "source": [
    "num = int(input('Digite um número para verificar se ele é primo: '))\n",
    "tot = 0\n",
    "for c in range(1, num+1):\n",
    "    if num % c == 0:\n",
    "        print('\\033[34m', end='')\n",
    "        tot += 1\n",
    "    else:\n",
    "        print('\\033[33m', end='')\n",
    "    print('{} '.format(c), end='')\n",
    "print('\\n\\033[mO numero {} foi divisível {} vezes.'.format(num,tot))\n",
    "if tot <= 2:\n",
    "    print('O número digitado é primo!')\n",
    "else:\n",
    "    print('O número digitado não é primo')"
   ]
  }
 ],
 "metadata": {
  "kernelspec": {
   "display_name": "Python 3 (ipykernel)",
   "language": "python",
   "name": "python3"
  },
  "language_info": {
   "codemirror_mode": {
    "name": "ipython",
    "version": 3
   },
   "file_extension": ".py",
   "mimetype": "text/x-python",
   "name": "python",
   "nbconvert_exporter": "python",
   "pygments_lexer": "ipython3",
   "version": "3.9.12"
  }
 },
 "nbformat": 4,
 "nbformat_minor": 5
}
