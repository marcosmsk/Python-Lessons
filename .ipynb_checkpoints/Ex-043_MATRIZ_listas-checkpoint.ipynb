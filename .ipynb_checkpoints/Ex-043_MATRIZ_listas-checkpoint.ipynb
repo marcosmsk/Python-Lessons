{
 "cells": [
  {
   "cell_type": "markdown",
   "id": "b028c421",
   "metadata": {},
   "source": [
    "### Ex-043: Números da Mega Sena\n",
    "Exercícios de videos by 'Curso em Video'"
   ]
  },
  {
   "cell_type": "markdown",
   "id": "94131992",
   "metadata": {},
   "source": [
    "##### 1\n",
    "\n",
    "\n",
    "Crie um programa que ajude um jogador de MEGA SENA a criar palpites. O programa vai perguntar quantos jogos serão gerados e vai sortear 6 números entre 1 e 60 para cada jogo, cadastrando tudo em uma lista composta.\n"
   ]
  },
  {
   "cell_type": "code",
   "execution_count": 12,
   "id": "12f73c1a",
   "metadata": {},
   "outputs": [
    {
     "name": "stdout",
     "output_type": "stream",
     "text": [
      "~~~~~~~~~~~~~~~~~~~~~~~~~~~~~~~~~~~~~~~~\n",
      "           BOLÃO DA MEGA SENA           \n",
      "~~~~~~~~~~~~~~~~~~~~~~~~~~~~~~~~~~~~~~~~\n"
     ]
    }
   ],
   "source": [
    "from random import randint\n",
    "from time import sleep\n",
    "\n",
    "print('~' * 40)\n",
    "print(f'{\"Sorteio de Números\":^40}')\n",
    "print('~' * 40)\n",
    "\n",
    "#variável da quantidade que o jogador deseja jogar\n",
    "qtd = int(input('Quantos jogos você quer que eu sorteie? '))\n",
    "tot = 1\n",
    "\n",
    "temp = []\n",
    "lista = []\n",
    "\n",
    "while tot <= qtd:\n",
    "    cont = 0\n",
    "    while True:\n",
    "        num = randint(1, 60)\n",
    "        if num not in temp:\n",
    "            temp.append(num)\n",
    "            cont += 1\n",
    "        if cont >= 6:\n",
    "            break\n",
    "    temp.sort()\n",
    "    lista.append(temp[:])\n",
    "    temp.clear()\n",
    "    tot += 1\n",
    "\n",
    "print('Sorteando os jogos', end='')\n",
    "for i in range(0,5):\n",
    "    print('.', end='')\n",
    "    sleep(0.5)\n",
    "print()\n",
    "\n",
    "for i, linha in enumerate(lista):\n",
    "    print(f'Jogo {i+1}: {linha}')\n",
    "    sleep(1)\n",
    "\n",
    "print('===== BOA SORTE! =====')"
   ]
  },
  {
   "cell_type": "code",
   "execution_count": null,
   "id": "d88f0b95",
   "metadata": {},
   "outputs": [],
   "source": []
  }
 ],
 "metadata": {
  "kernelspec": {
   "display_name": "Python 3 (ipykernel)",
   "language": "python",
   "name": "python3"
  },
  "language_info": {
   "codemirror_mode": {
    "name": "ipython",
    "version": 3
   },
   "file_extension": ".py",
   "mimetype": "text/x-python",
   "name": "python",
   "nbconvert_exporter": "python",
   "pygments_lexer": "ipython3",
   "version": "3.9.12"
  }
 },
 "nbformat": 4,
 "nbformat_minor": 5
}
