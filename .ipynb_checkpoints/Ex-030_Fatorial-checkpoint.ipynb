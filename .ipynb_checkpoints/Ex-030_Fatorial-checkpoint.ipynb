{
 "cells": [
  {
   "cell_type": "markdown",
   "id": "b028c421",
   "metadata": {},
   "source": [
    "### Ex-030: Fatorial sem módulo\n",
    "\n",
    "Elabore um programa que seja capaz realizar o cálculo de fatorial\n",
    "\n",
    "Exercícios de videos by 'Curso em Video'"
   ]
  },
  {
   "cell_type": "code",
   "execution_count": 13,
   "id": "5eebff07",
   "metadata": {},
   "outputs": [
    {
     "name": "stdout",
     "output_type": "stream",
     "text": [
      "Digite um número para calcular o seu fatorial: 5\n",
      "5  x  4  x  3  x  2  x  1  =  120\n"
     ]
    }
   ],
   "source": [
    "n = int(input('Digite um número para calcular o seu fatorial: '))\n",
    "#contador irá começar pelo valor informado até o valor 1\n",
    "c = n\n",
    "fatorial = 1\n",
    "\n",
    "while c > 0:\n",
    "    print('{}'.format(c), end=' ')\n",
    "    print(' x ' if c > 1 else ' = ', end=' ')\n",
    "    fatorial = fatorial * c\n",
    "    c -= 1\n",
    "print('{}'.format(fatorial))"
   ]
  }
 ],
 "metadata": {
  "kernelspec": {
   "display_name": "Python 3 (ipykernel)",
   "language": "python",
   "name": "python3"
  },
  "language_info": {
   "codemirror_mode": {
    "name": "ipython",
    "version": 3
   },
   "file_extension": ".py",
   "mimetype": "text/x-python",
   "name": "python",
   "nbconvert_exporter": "python",
   "pygments_lexer": "ipython3",
   "version": "3.9.12"
  }
 },
 "nbformat": 4,
 "nbformat_minor": 5
}
