{
 "cells": [
  {
   "cell_type": "markdown",
   "id": "b028c421",
   "metadata": {},
   "source": [
    "### Ex-050: DICIONÁRIOS - Exercício\n",
    "\n",
    "Crie um programa que gerencie o aproveitamento de um jogador de futebol. O programa vai ler o nome do jogador e quantas partidas ele jogou. Depois vai ler a quantidade de gols feitos em cada partida. No final, tudo isso será guardado num dicionário incluindo o total de gols feitos durante o campeonato.\n",
    "\n",
    "Exercícios de videos by 'Curso em Video'"
   ]
  },
  {
   "cell_type": "code",
   "execution_count": 2,
   "id": "5252025f",
   "metadata": {},
   "outputs": [
    {
     "name": "stdout",
     "output_type": "stream",
     "text": [
      "Nome do Jogador: Kaka\n",
      "Quantas partidas o Kaka jogou? 2\n",
      "Quantos gols na partida 0: 2\n",
      "Quantos gols na partida 1: 1\n",
      "Quer continuar? [S/N] s\n",
      "Nome do Jogador: Ronaldo\n",
      "Quantas partidas o Ronaldo jogou? 3\n",
      "Quantos gols na partida 0: 2\n",
      "Quantos gols na partida 1: 1\n",
      "Quantos gols na partida 2: 1\n",
      "Quer continuar? [S/N] s\n",
      "Nome do Jogador: Adriano\n",
      "Quantas partidas o Adriano jogou? 2\n",
      "Quantos gols na partida 0: 1\n",
      "Quantos gols na partida 1: 0\n",
      "Quer continuar? [S/N] n\n",
      "\n",
      "-=-=-=-=-=-=-=-=-=-=-=-=-=-=-=-=-=-=-=-=-=-=-=-=-=-=-=-=-=-=-=-=-=-=-=\n",
      "[{'nome': 'Kaka', 'partidas': 2, 'gols': [2, 1], 'total_gols': 3}, {'nome': 'Ronaldo', 'partidas': 3, 'gols': [2, 1, 1], 'total_gols': 4}, {'nome': 'Adriano', 'partidas': 2, 'gols': [1, 0], 'total_gols': 1}]\n",
      "\n",
      "-=-=-=-=-=-=-=-=-=-=-=-=-=-=-=-=-=-=-=-=-=-=-=-=-=-=-=-=-=-=-=-=-=-=-=\n",
      "Nº   Nome           Partidas                Gols         Total\n",
      "0    Kaka              2                 [2, 1]            3                 \n",
      "1    Ronaldo           3                 [2, 1, 1]         4                 \n",
      "2    Adriano           2                 [1, 0]            1                 \n"
     ]
    }
   ],
   "source": [
    "jogador = dict()\n",
    "lista = list()\n",
    "\n",
    "while True:\n",
    "    c = 0\n",
    "    jogador['nome'] = str(input('Nome do Jogador: '))\n",
    "    jogador['partidas'] = int(input(f'Quantas partidas o {jogador[\"nome\"]} jogou? '))\n",
    "    jogador['gols'] = []\n",
    "    for c in range(0, jogador['partidas']):\n",
    "        gols = int(input(f'Quantos gols na partida {c}: '))\n",
    "        jogador['gols'].append(gols)\n",
    "        c += 1\n",
    "    jogador['total_gols'] = sum(jogador['gols'])\n",
    "    lista.append(jogador.copy())\n",
    "    jogador.clear()\n",
    "    opcao = str(input('Quer continuar? [S/N] ')).strip().upper()[0]\n",
    "    while opcao not in 'SN':\n",
    "        print('ERRO! Digite apenas S ou N para continuar...')\n",
    "        opcao = str(input('Quer continuar? [S/N] ')).strip().upper()[0]\n",
    "    if opcao == 'N':\n",
    "        break\n",
    "    \n",
    "print()\n",
    "#1 Forma 01 de imprimir o resultado\n",
    "print('-=' * 35)\n",
    "print(lista)\n",
    "print()\n",
    "print('-=' * 35)\n",
    "print(f'{\"Nº\":<5}{\"Nome\":<15}{\"Partidas\":<24}{\"Gols\":<13}{\"Total\":^5}')\n",
    "#i = indice da lista: 0, 1, 2...\n",
    "#v = valor que está dentro de cada indice (no caso, cada dicionário): {'nome': 'Kaka', 'partidas': 3, 'gols': [1, 0, 2], 'total_gols': 3}\n",
    "#d = conteúdo (valor) de cada dicionário: Kaka, 3, [1,0,2], 3\n",
    "for i, v in enumerate(lista):\n",
    "    print(f'{i:<5}', end='')    \n",
    "    for d in v.values():\n",
    "        print(f'{str(d):<18}',end='')\n",
    "    print()"
   ]
  },
  {
   "cell_type": "code",
   "execution_count": 3,
   "id": "e71e0c0c",
   "metadata": {},
   "outputs": [
    {
     "name": "stdout",
     "output_type": "stream",
     "text": [
      "Mostrar dados de qual jogador? (999 para encerrar) 1\n",
      ">> Levantamento do jogador Ronaldo: \n",
      "    No jogo0 fez 2 gols\n",
      "    No jogo1 fez 1 gols\n",
      "    No jogo2 fez 1 gols\n",
      "Mostrar dados de qual jogador? (999 para encerrar) 6\n",
      "ERRO! Não existe jogador com código 6!\n",
      "Mostrar dados de qual jogador? (999 para encerrar) 0\n",
      ">> Levantamento do jogador Kaka: \n",
      "    No jogo0 fez 2 gols\n",
      "    No jogo1 fez 1 gols\n",
      "Mostrar dados de qual jogador? (999 para encerrar) 999\n"
     ]
    }
   ],
   "source": [
    "while True:\n",
    "    info = int(input('Mostrar dados de qual jogador? (999 para encerrar) '))\n",
    "    if info == 999:\n",
    "        break\n",
    "    if info > len(lista):\n",
    "        print(f'ERRO! Não existe jogador com código {info}!')\n",
    "    else:\n",
    "        print(f'>> Levantamento do jogador {lista[info][\"nome\"]}: ')\n",
    "        for i, gols in enumerate(lista[info]['gols']):\n",
    "            print(f'    No jogo {i} fez {gols} gols')\n",
    "        \n",
    "print('Busca encerrada!')"
   ]
  }
 ],
 "metadata": {
  "kernelspec": {
   "display_name": "Python 3 (ipykernel)",
   "language": "python",
   "name": "python3"
  },
  "language_info": {
   "codemirror_mode": {
    "name": "ipython",
    "version": 3
   },
   "file_extension": ".py",
   "mimetype": "text/x-python",
   "name": "python",
   "nbconvert_exporter": "python",
   "pygments_lexer": "ipython3",
   "version": "3.9.12"
  }
 },
 "nbformat": 4,
 "nbformat_minor": 5
}
