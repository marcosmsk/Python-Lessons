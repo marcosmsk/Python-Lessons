{
 "cells": [
  {
   "cell_type": "markdown",
   "id": "2f6556bd",
   "metadata": {},
   "source": [
    "### Ex-063: Funções - Exercício\n",
    "\n",
    "##### Criando Módulos\n",
    "\n",
    "Crie um módulo chamado moeda.py que tenha as funções incorporadas aumentar(), diminuir(), dobro() e metade(). Faça também um programa que importe esse módulo e use algumas dessas funções.\n",
    "\n",
    "Ref.: video 110\n",
    "\n",
    "Exercícios de videos by 'Curso em Video'"
   ]
  },
  {
   "cell_type": "code",
   "execution_count": 2,
   "id": "f2363a9d",
   "metadata": {},
   "outputs": [],
   "source": [
    "#arquivo moeda.py\n",
    "def aumentar(preco=0, taxa=0, formato=False):\n",
    "    res = preco + (preco*taxa)/100\n",
    "    return res if formato is False else moeda(res)\n",
    "#ou return res if not formato else moeda(res)\n",
    "\n",
    "\n",
    "def diminuir(preco=0, taxa=0, formato=False):\n",
    "    res = preco - (preco*taxa)/100\n",
    "    return res if not formato else moeda(res)\n",
    "\n",
    "\n",
    "def dobro(preco=0, formato=False):\n",
    "    res = preco * 2\n",
    "    return res if not formato else moeda(res)\n",
    "\n",
    "\n",
    "def metade(preco=0, formato=False):\n",
    "    res = preco / 2\n",
    "    return res if not formato else moeda(res)\n",
    "\n",
    "\n",
    "def moeda(preco=0, moeda='R$'):\n",
    "    return f'{moeda}{preco:.2f}'.replace('.', ',')\n",
    "\n",
    "\n",
    "def resumo(preco=0, taxa_up=10, taxa_down=5):\n",
    "    print('-' * 30)\n",
    "    print('Resumo dos Ajustes'.center(30))\n",
    "    print('-' * 30)\n",
    "    print(f'Preço analisado: {moeda(preco)}')\n",
    "    print(f'Dobro do preço: {dobro(preco, True)}')\n",
    "    print(f'Metade do preço: {metade(preco, True)}')\n",
    "    print(f'Preço com 10% de aumento: {aumentar(preco, taxa_up, True)}')\n",
    "    print(f'Preço com 5% de desconto: {diminuir(preco, taxa_down, True)}')"
   ]
  },
  {
   "cell_type": "markdown",
   "id": "b4789a59",
   "metadata": {},
   "source": [
    "##### P/ PYCHARM\n",
    "\n",
    "É possível criar uma PASTA, dentro dela criar um módulo (exemplo, moeda.py) e importar as funções deste módulo para ser usar no programa principal. (VER VIDEO 109 do curso em vídeo)\n",
    "\n",
    "#arquivo teste.py\n",
    "\n",
    "#importando módulo\n",
    "\n",
    "from ex110 import moeda\n",
    "\n",
    "while True:\n",
    "\n",
    "    p = float(input('Digite um valor (999 para encerrar) R$ '))\n",
    "    \n",
    "    if p == 999:\n",
    "    \n",
    "        break\n",
    "        \n",
    "    moeda.resumo(p)\n",
    "\n",
    "print('Fim do Programa')"
   ]
  },
  {
   "cell_type": "code",
   "execution_count": 4,
   "id": "2fef09db",
   "metadata": {},
   "outputs": [
    {
     "name": "stdout",
     "output_type": "stream",
     "text": [
      "Digite um valor (999 para encerrar) R$ 200\n",
      "------------------------------\n",
      "      Resumo dos Ajustes      \n",
      "------------------------------\n",
      "Preço analisado: R$200,00\n",
      "Dobro do preço: R$400,00\n",
      "Metade do preço: R$100,00\n",
      "Preço com 10% de aumento: R$220,00\n",
      "Preço com 5% de desconto: R$190,00\n",
      "Digite um valor (999 para encerrar) R$ 999\n",
      "Fim do Programa\n"
     ]
    }
   ],
   "source": [
    "#Programa Principal\n",
    "while True:\n",
    "    p = float(input('Digite um valor (999 para encerrar) R$ '))\n",
    "    if p == 999:\n",
    "        break\n",
    "    resumo(p)\n",
    "\n",
    "print('Fim do Programa')\n"
   ]
  }
 ],
 "metadata": {
  "kernelspec": {
   "display_name": "Python 3 (ipykernel)",
   "language": "python",
   "name": "python3"
  },
  "language_info": {
   "codemirror_mode": {
    "name": "ipython",
    "version": 3
   },
   "file_extension": ".py",
   "mimetype": "text/x-python",
   "name": "python",
   "nbconvert_exporter": "python",
   "pygments_lexer": "ipython3",
   "version": "3.9.12"
  }
 },
 "nbformat": 4,
 "nbformat_minor": 5
}
