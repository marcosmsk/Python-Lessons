{
 "cells": [
  {
   "cell_type": "markdown",
   "id": "6035b8f9",
   "metadata": {},
   "source": [
    "### Ex-007: Seno, Cosseno, Tangente\n",
    "\n",
    "Faça um programa informar o valor de Seno, Cosseno e Tangente do número digitado\n",
    "\n",
    "Exercícios de videos by 'Curso em Video'"
   ]
  },
  {
   "cell_type": "code",
   "execution_count": 2,
   "id": "65d3823a",
   "metadata": {},
   "outputs": [
    {
     "name": "stdout",
     "output_type": "stream",
     "text": [
      "Digite o ângulo que deseja encontrar o valor: 60\n",
      "O seno de 60.0 é 0.87.\n",
      "O cosseno de 60.0 é 0.50.\n",
      "A tangente de 60.0 é 1.73.\n"
     ]
    }
   ],
   "source": [
    "import math\n",
    "angulo = float(input('Digite o ângulo que deseja encontrar o valor: '))\n",
    "seno = math.sin(math.radians(angulo))\n",
    "print('O seno de {} é {:.2f}.'.format(angulo, seno))\n",
    "cosseno = math.cos(math.radians(angulo))\n",
    "print('O cosseno de {} é {:.2f}.'.format(angulo, cosseno))\n",
    "tangente = math.tan(math.radians(angulo))\n",
    "print('A tangente de {} é {:.2f}.'.format(angulo, tangente))"
   ]
  }
 ],
 "metadata": {
  "kernelspec": {
   "display_name": "Python 3 (ipykernel)",
   "language": "python",
   "name": "python3"
  },
  "language_info": {
   "codemirror_mode": {
    "name": "ipython",
    "version": 3
   },
   "file_extension": ".py",
   "mimetype": "text/x-python",
   "name": "python",
   "nbconvert_exporter": "python",
   "pygments_lexer": "ipython3",
   "version": "3.9.12"
  }
 },
 "nbformat": 4,
 "nbformat_minor": 5
}
