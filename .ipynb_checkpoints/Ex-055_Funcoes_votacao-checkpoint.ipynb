{
 "cells": [
  {
   "cell_type": "markdown",
   "id": "2f6556bd",
   "metadata": {},
   "source": [
    "### Ex-055: Funções - Exercício\n",
    "\n",
    "Faça um programa que tenha uma função chamada voto() que vai receber como parâmetro o ano de nascimento de uma pessoa, retornando um valor literal indicando se uma pessoa tem voto NEGADO, OPCIONAL ou OBRIGATÓRIO nas eleições\n",
    "\n",
    "Exercícios de videos by 'Curso em Video'"
   ]
  },
  {
   "cell_type": "code",
   "execution_count": 2,
   "id": "f2363a9d",
   "metadata": {},
   "outputs": [
    {
     "name": "stdout",
     "output_type": "stream",
     "text": [
      "Digite o ano de nascimento: 2000\n"
     ]
    },
    {
     "data": {
      "text/plain": [
       "'Com 22 anos: VOTO OBRIGATÓRIO'"
      ]
     },
     "execution_count": 2,
     "metadata": {},
     "output_type": "execute_result"
    }
   ],
   "source": [
    "#funções\n",
    "def voto(ano):\n",
    "    from datetime import date\n",
    "    atual = date.today().year\n",
    "    idade = atual - ano\n",
    "    if idade < 16:\n",
    "        return f'Com {idade} anos: NÃO VOTA!'\n",
    "    elif 16 <= idade < 18 or idade > 65:\n",
    "        return f'Com {idade} anos: VOTO OPCIONAL!'\n",
    "    else:\n",
    "        return f'Com {idade} anos: VOTO OBRIGATÓRIO'\n",
    "\n",
    "#Programa principal\n",
    "nasc = int(input('Digite o ano de nascimento: '))\n",
    "voto(nasc)"
   ]
  }
 ],
 "metadata": {
  "kernelspec": {
   "display_name": "Python 3 (ipykernel)",
   "language": "python",
   "name": "python3"
  },
  "language_info": {
   "codemirror_mode": {
    "name": "ipython",
    "version": 3
   },
   "file_extension": ".py",
   "mimetype": "text/x-python",
   "name": "python",
   "nbconvert_exporter": "python",
   "pygments_lexer": "ipython3",
   "version": "3.9.12"
  }
 },
 "nbformat": 4,
 "nbformat_minor": 5
}
