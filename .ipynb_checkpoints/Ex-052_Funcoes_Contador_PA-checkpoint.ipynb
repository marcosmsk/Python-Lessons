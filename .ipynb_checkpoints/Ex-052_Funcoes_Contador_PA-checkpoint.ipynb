{
 "cells": [
  {
   "cell_type": "markdown",
   "id": "2f6556bd",
   "metadata": {},
   "source": [
    "### Ex-052: Funções - Contador - Prog. Aritmética\n",
    "\n",
    "Faça um programa que realize uma contagem dado os parâmetros de valor inicial, final e a razão.\n",
    "\n",
    "Exercícios de videos by 'Curso em Video'"
   ]
  },
  {
   "cell_type": "code",
   "execution_count": 1,
   "id": "5d36c391",
   "metadata": {},
   "outputs": [
    {
     "name": "stdout",
     "output_type": "stream",
     "text": [
      "Valor inicial da contagem: -10\n",
      "Valor final da contagem: 0\n",
      "Passo da contagem: 1\n",
      "contagem de -10 a 0 de 1 em 1...\n",
      "-10 -9 -8 -7 -6 -5 -4 -3 -2 -1 0  FIM!\n",
      "Deseja uma nova contagem? [S/N] n\n",
      "FIM do programa!\n"
     ]
    }
   ],
   "source": [
    "from time import sleep\n",
    "\n",
    "def contagem(i, f, passo):\n",
    "    if passo < 0:\n",
    "        passo *= -1\n",
    "    if passo == 0:\n",
    "        passo = 1\n",
    "    print(f'contagem de {i} a {f} de {passo} em {passo}...')\n",
    "    sleep(0.5)\n",
    "    if i < f:\n",
    "        cont = i\n",
    "        while cont <= f:\n",
    "            print(f'{cont}', end=' ', flush=True)\n",
    "            sleep(0.4)\n",
    "            cont += passo\n",
    "        print(' FIM!')\n",
    "    else:\n",
    "        cont = i\n",
    "        while cont >= f:\n",
    "            print(f'{cont}', end=' ', flush=True)\n",
    "            sleep(0.4)\n",
    "            cont -= passo\n",
    "        print(' FIM!')\n",
    "\n",
    "#contagem(1, 10, 1)\n",
    "#contagem(10, 0, 2)\n",
    "\n",
    "while True:\n",
    "    a1 = int(input('Valor inicial da contagem: '))\n",
    "    an = int(input('Valor final da contagem: '))\n",
    "    ra = int(input('Passo da contagem: '))\n",
    "    contagem(a1, an, ra)\n",
    "    res = str(input('Deseja uma nova contagem? [S/N] ')).strip().upper()[0]    \n",
    "    while res not in 'SN':\n",
    "        print('Erro! Digite apenas S ou N...')\n",
    "        res = str(input('Deseja uma nova contagem? [S/N] ')).strip().upper()[0]\n",
    "        if res in 'N':\n",
    "            break\n",
    "    if res in 'N':\n",
    "        break\n",
    "print('FIM do programa!')\n",
    "    "
   ]
  }
 ],
 "metadata": {
  "kernelspec": {
   "display_name": "Python 3 (ipykernel)",
   "language": "python",
   "name": "python3"
  },
  "language_info": {
   "codemirror_mode": {
    "name": "ipython",
    "version": 3
   },
   "file_extension": ".py",
   "mimetype": "text/x-python",
   "name": "python",
   "nbconvert_exporter": "python",
   "pygments_lexer": "ipython3",
   "version": "3.9.12"
  }
 },
 "nbformat": 4,
 "nbformat_minor": 5
}
