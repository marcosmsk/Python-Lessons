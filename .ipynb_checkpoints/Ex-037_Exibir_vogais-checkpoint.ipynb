{
 "cells": [
  {
   "cell_type": "markdown",
   "id": "b028c421",
   "metadata": {},
   "source": [
    "### Ex-037: Contagem de vogais em TUPLAS\n",
    "\n",
    "Crie um programa que tenha uma TUPLA com várias palavras (não usar acentos). Depois disso, o programa deve mostrar, para cada palavra, quais são as suas vogais.\n",
    "\n",
    "Exercícios de videos by 'Curso em Video'"
   ]
  },
  {
   "cell_type": "code",
   "execution_count": 5,
   "id": "1f808953",
   "metadata": {},
   "outputs": [
    {
     "name": "stdout",
     "output_type": "stream",
     "text": [
      "\n",
      "Na palavra ESCOLA temos as vogais e o a \n",
      "Na palavra CARRO temos as vogais a o \n",
      "Na palavra ESPAÇO temos as vogais e a o \n",
      "Na palavra MANTEIGA temos as vogais a e i a \n",
      "Na palavra PUDIM temos as vogais u i \n",
      "Na palavra ESCOVA temos as vogais e o a \n",
      "Na palavra COLHER temos as vogais o e \n",
      "Na palavra FANTASIA temos as vogais a a i a \n",
      "Na palavra SENTIDO temos as vogais e i o \n",
      "Na palavra PROGRAMAR temos as vogais o a a "
     ]
    }
   ],
   "source": [
    "palavras = ('escola', 'carro', 'espaço', 'manteiga', 'pudim',\n",
    "           'escova', 'colher', 'fantasia', 'sentido', 'programar')\n",
    "\n",
    "for p in palavras:\n",
    "    print(f'\\nNa palavra {p.upper()} temos as vogais', end=' ')\n",
    "    for vogal in p:\n",
    "        if vogal.lower() in 'aeiou':\n",
    "            print(f'{vogal}', end=' ')"
   ]
  }
 ],
 "metadata": {
  "kernelspec": {
   "display_name": "Python 3 (ipykernel)",
   "language": "python",
   "name": "python3"
  },
  "language_info": {
   "codemirror_mode": {
    "name": "ipython",
    "version": 3
   },
   "file_extension": ".py",
   "mimetype": "text/x-python",
   "name": "python",
   "nbconvert_exporter": "python",
   "pygments_lexer": "ipython3",
   "version": "3.9.12"
  }
 },
 "nbformat": 4,
 "nbformat_minor": 5
}
