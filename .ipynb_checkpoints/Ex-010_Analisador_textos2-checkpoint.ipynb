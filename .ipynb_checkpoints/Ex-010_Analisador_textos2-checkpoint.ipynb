{
 "cells": [
  {
   "cell_type": "markdown",
   "id": "49fcb9cb",
   "metadata": {},
   "source": [
    "### Ex-11 Analisando textos 2\n",
    "\n",
    "Programa preliminar para filtros"
   ]
  },
  {
   "cell_type": "code",
   "execution_count": 2,
   "id": "04538be4",
   "metadata": {},
   "outputs": [
    {
     "name": "stdout",
     "output_type": "stream",
     "text": [
      "Digite o nome da cidade: san marino\n",
      "False\n"
     ]
    }
   ],
   "source": [
    "#faça um programa que filtra cidades que começa com a palavra 'santo'\n",
    "\n",
    "cidade = str(input('Digite o nome da cidade: ')).strip()\n",
    "print(cidade[:5].upper() == 'SANTO')"
   ]
  }
 ],
 "metadata": {
  "kernelspec": {
   "display_name": "Python 3 (ipykernel)",
   "language": "python",
   "name": "python3"
  },
  "language_info": {
   "codemirror_mode": {
    "name": "ipython",
    "version": 3
   },
   "file_extension": ".py",
   "mimetype": "text/x-python",
   "name": "python",
   "nbconvert_exporter": "python",
   "pygments_lexer": "ipython3",
   "version": "3.9.12"
  }
 },
 "nbformat": 4,
 "nbformat_minor": 5
}
