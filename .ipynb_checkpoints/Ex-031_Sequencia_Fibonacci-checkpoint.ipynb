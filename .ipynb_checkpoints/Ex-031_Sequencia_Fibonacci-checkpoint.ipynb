{
 "cells": [
  {
   "cell_type": "markdown",
   "id": "b028c421",
   "metadata": {},
   "source": [
    "### Ex-031: Sequência de Fibonacci\n",
    "\n",
    "Elabore um programa que seja capaz imprimir a sequência de Fibonacci\n",
    "\n",
    "Exercícios de videos by 'Curso em Video'"
   ]
  },
  {
   "cell_type": "code",
   "execution_count": 8,
   "id": "b22585f5",
   "metadata": {},
   "outputs": [
    {
     "name": "stdout",
     "output_type": "stream",
     "text": [
      "========== SEQUENCIA DE FIBONACCI ==========\n",
      "Qual a quantidade de números que você quer ver da sequência de Fibonacci? 20\n",
      "0 >> 1 >> 1 >> 2 >> 3 >> 5 >> 8 >> 13 >> 21 >> 34 >> 55 >> 89 >> 144 >> 233 >> 377 >> 610 >> 987 >> 1597 >> 2584 >> 4181 >>> FIM!\n"
     ]
    }
   ],
   "source": [
    "print('========== SEQUENCIA DE FIBONACCI ==========')\n",
    "\n",
    "n = int(input('Qual a quantidade de números que você quer ver da sequência de Fibonacci? '))\n",
    "f1 = 0\n",
    "f2 = 1\n",
    "cont = 3\n",
    "\n",
    "print('{} >> {}'.format(f1, f2), end = '')\n",
    "\n",
    "while cont <= n:\n",
    "    f3 = f2 + f1\n",
    "    cont +=1\n",
    "    print(' >> {}'.format(f3), end ='')\n",
    "    f1 = f2\n",
    "    f2 = f3\n",
    "print(' >>> FIM!')"
   ]
  }
 ],
 "metadata": {
  "kernelspec": {
   "display_name": "Python 3 (ipykernel)",
   "language": "python",
   "name": "python3"
  },
  "language_info": {
   "codemirror_mode": {
    "name": "ipython",
    "version": 3
   },
   "file_extension": ".py",
   "mimetype": "text/x-python",
   "name": "python",
   "nbconvert_exporter": "python",
   "pygments_lexer": "ipython3",
   "version": "3.9.12"
  }
 },
 "nbformat": 4,
 "nbformat_minor": 5
}
