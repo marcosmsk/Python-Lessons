{
 "cells": [
  {
   "cell_type": "markdown",
   "id": "b028c421",
   "metadata": {},
   "source": [
    "### Ex-024: Datas\n",
    "\n",
    "Manipulação de datas\n"
   ]
  },
  {
   "cell_type": "code",
   "execution_count": null,
   "id": "5eebff07",
   "metadata": {},
   "outputs": [],
   "source": [
    "#Formatação da Data para o sistema brasileiro\n",
    "\n",
    "from datetime import date\n",
    "\n",
    "data_atual = date.today()\n",
    "data_format = data_atual.strftime('%d/%m/%y')\n",
    "print(data_format)"
   ]
  },
  {
   "cell_type": "code",
   "execution_count": 6,
   "id": "25987502",
   "metadata": {},
   "outputs": [
    {
     "name": "stdout",
     "output_type": "stream",
     "text": [
      "Em que ano você nasceu? 1960\n",
      "Você é já é maior de idade: 62 anos.\n",
      "Em que ano você nasceu? 2011\n",
      "Você ainda não é maior de idade por tem apenas 11 anos.\n",
      "Em que ano você nasceu? 2000\n",
      "Você é já é maior de idade: 22 anos.\n"
     ]
    }
   ],
   "source": [
    "#Exercicio -1: programa que informa se a pessoa é maior de idade\n",
    "\n",
    "from datetime import date\n",
    "\n",
    "for i in range(1, 4):\n",
    "    nasc = int(input('Em que ano você nasceu? '))\n",
    "    data_atual = date.today().year\n",
    "    verificacao = data_atual - nasc \n",
    "    if verificacao >= 18:\n",
    "        print('Você é já é maior de idade: {} anos.'.format(verificacao))\n",
    "    else:\n",
    "        print('Você ainda não é maior de idade por tem apenas {} anos.'.format(verificacao))"
   ]
  }
 ],
 "metadata": {
  "kernelspec": {
   "display_name": "Python 3 (ipykernel)",
   "language": "python",
   "name": "python3"
  },
  "language_info": {
   "codemirror_mode": {
    "name": "ipython",
    "version": 3
   },
   "file_extension": ".py",
   "mimetype": "text/x-python",
   "name": "python",
   "nbconvert_exporter": "python",
   "pygments_lexer": "ipython3",
   "version": "3.9.12"
  }
 },
 "nbformat": 4,
 "nbformat_minor": 5
}
