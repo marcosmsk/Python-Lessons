{
 "cells": [
  {
   "cell_type": "markdown",
   "id": "094be27d",
   "metadata": {},
   "source": [
    "### Ex-015: Lista de Cores\n",
    "\n",
    "Elabore uma lista de cores para exibir um nome\n",
    "\n",
    "Exercícios de videos by 'Curso em Video'"
   ]
  },
  {
   "cell_type": "code",
   "execution_count": 4,
   "id": "16394cd3",
   "metadata": {},
   "outputs": [
    {
     "name": "stdout",
     "output_type": "stream",
     "text": [
      "Digite o seu nome: Marcos\n",
      "Olá! Prazer em te conhecer, \u001b[1;34mMarcos\u001b[m!\n"
     ]
    }
   ],
   "source": [
    "nome = str(input('Digite o seu nome: ')).strip()\n",
    "#lista de cores\n",
    "cores = {'limpa': '\\033[m',\n",
    "         'azul': '\\033[1;34m',\n",
    "         'amarelo': '\\033[33m',\n",
    "         'pretoebranco': '\\033[7;30m'}\n",
    "\n",
    "#será composto por 3 {}: primeiro é o cod de cor abrindo, o segundo é o nome e o terceiro é o cód de cor fechando\n",
    "print('Olá! Prazer em te conhecer, {}{}{}!'.format(cores['azul'], nome, cores['limpa']))"
   ]
  }
 ],
 "metadata": {
  "kernelspec": {
   "display_name": "Python 3 (ipykernel)",
   "language": "python",
   "name": "python3"
  },
  "language_info": {
   "codemirror_mode": {
    "name": "ipython",
    "version": 3
   },
   "file_extension": ".py",
   "mimetype": "text/x-python",
   "name": "python",
   "nbconvert_exporter": "python",
   "pygments_lexer": "ipython3",
   "version": "3.9.12"
  }
 },
 "nbformat": 4,
 "nbformat_minor": 5
}
