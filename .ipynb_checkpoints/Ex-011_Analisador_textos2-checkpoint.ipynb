{
 "cells": [
  {
   "cell_type": "markdown",
   "id": "49fcb9cb",
   "metadata": {},
   "source": [
    "### Ex-11 Analisando textos 2\n",
    "\n",
    "Programa preliminar para filtros\n",
    "\n",
    "Exercícios de videos by 'Curso em Video'"
   ]
  },
  {
   "cell_type": "code",
   "execution_count": 2,
   "id": "04538be4",
   "metadata": {},
   "outputs": [
    {
     "name": "stdout",
     "output_type": "stream",
     "text": [
      "Digite o nome da cidade: san marino\n",
      "False\n"
     ]
    }
   ],
   "source": [
    "#faça um programa que filtra cidades que começa com a palavra 'santo'\n",
    "\n",
    "cidade = str(input('Digite o nome da cidade: ')).strip()\n",
    "print(cidade[:5].upper() == 'SANTO')"
   ]
  },
  {
   "cell_type": "markdown",
   "id": "903515be",
   "metadata": {},
   "source": [
    "Crie um programa que leia o nome de uma pessoa e diga se ela tem 'silva' no nome"
   ]
  },
  {
   "cell_type": "code",
   "execution_count": 3,
   "id": "50a2954d",
   "metadata": {},
   "outputs": [
    {
     "name": "stdout",
     "output_type": "stream",
     "text": [
      "Qual é o seu nome completo? Marcos Silva\n",
      "Seu nome tem Silva? True\n"
     ]
    }
   ],
   "source": [
    "nome = str(input('Qual é o seu nome completo? ')).strip()\n",
    "print('Seu nome tem Silva? {}'.format('silva' in nome.lower()))"
   ]
  }
 ],
 "metadata": {
  "kernelspec": {
   "display_name": "Python 3 (ipykernel)",
   "language": "python",
   "name": "python3"
  },
  "language_info": {
   "codemirror_mode": {
    "name": "ipython",
    "version": 3
   },
   "file_extension": ".py",
   "mimetype": "text/x-python",
   "name": "python",
   "nbconvert_exporter": "python",
   "pygments_lexer": "ipython3",
   "version": "3.9.12"
  }
 },
 "nbformat": 4,
 "nbformat_minor": 5
}
