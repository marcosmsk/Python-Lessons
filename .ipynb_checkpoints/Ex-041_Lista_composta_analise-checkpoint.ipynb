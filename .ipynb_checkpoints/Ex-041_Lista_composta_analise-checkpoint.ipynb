{
 "cells": [
  {
   "cell_type": "markdown",
   "id": "b028c421",
   "metadata": {},
   "source": [
    "### Ex-041: Propriedades da LISTA II\n",
    "\n",
    "Exercícios de videos by 'Curso em Video'"
   ]
  },
  {
   "cell_type": "markdown",
   "id": "94131992",
   "metadata": {},
   "source": [
    "##### 1\n",
    "Crie um programa que leia nome e peso de várias pessoas guardando tudo em uma LISTA. No final mostre:\n",
    "\n",
    "a) O número de pessoas cadastradas\n",
    "\n",
    "b) Uma listagem de pessoas mais pesadas\n",
    "\n",
    "c) Uma listagem de pessoas menos pesadas."
   ]
  },
  {
   "cell_type": "code",
   "execution_count": null,
   "id": "b804dfe4",
   "metadata": {},
   "outputs": [],
   "source": [
    "#criar uma lista temporária e uma principal\n",
    "temp = []\n",
    "princ = []\n",
    "maior = menor = 0\n",
    "\n",
    "while True:\n",
    "    temp.append(str(input('Nome: ')))\n",
    "    temp.append(float(input('Peso: ')))\n",
    "    if len(princ) == 0:\n",
    "        maior = menor = temp[1]\n",
    "    else:\n",
    "        if temp[1] > maior:\n",
    "            maior = temp[1]\n",
    "        if temp[1] < menor:\n",
    "            menor = temp[1]\n",
    "    princ.append(temp[:])\n",
    "    temp.clear()\n",
    "    resp = str(input('Inserir mais dados? [S/N] '))\n",
    "    if resp in 'Nn':\n",
    "        break\n",
    "\n",
    "print(f'Ao todo você cadastrou {len(princ)} pessoas.')\n",
    "print(f'Lista: {princ}')\n",
    "\n",
    "print(f'Maior peso: {maior}kg. Peso(s) de', end=' ')\n",
    "for p in princ:\n",
    "    if p[1] == maior:\n",
    "        print(f'[{p[0]}]', end='')\n",
    "print()\n",
    "print(f'Menor peso: {menor}kg. Peso(s) de', end='')\n",
    "for p in princ:\n",
    "    if p[1] == menor:\n",
    "        print(f'[{p[0]}]', end=' ')"
   ]
  }
 ],
 "metadata": {
  "kernelspec": {
   "display_name": "Python 3 (ipykernel)",
   "language": "python",
   "name": "python3"
  },
  "language_info": {
   "codemirror_mode": {
    "name": "ipython",
    "version": 3
   },
   "file_extension": ".py",
   "mimetype": "text/x-python",
   "name": "python",
   "nbconvert_exporter": "python",
   "pygments_lexer": "ipython3",
   "version": "3.9.12"
  }
 },
 "nbformat": 4,
 "nbformat_minor": 5
}
