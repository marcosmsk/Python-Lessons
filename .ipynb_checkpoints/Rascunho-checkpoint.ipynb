{
 "cells": [
  {
   "cell_type": "code",
   "execution_count": 25,
   "id": "7718f859",
   "metadata": {},
   "outputs": [
    {
     "name": "stdout",
     "output_type": "stream",
     "text": [
      "Nome do Jogador: Ronaldo\n",
      "Quantas partidas o Ronaldo jogou? 5\n",
      "Quantos gols na partida 0: 2\n",
      "Quantos gols na partida 1: 3\n",
      "Quantos gols na partida 2: 1\n",
      "Quantos gols na partida 3: 3\n",
      "Quantos gols na partida 4: 0\n",
      "::::::::::::::::::::::::::::::::::::::::::::::::::::::::::::::::::::::::::::::::\n",
      "{'nome': 'Ronaldo', 'partidas': 5, 'gols': [2, 3, 1, 3, 0], 'total_gols': 9}\n",
      "::::::::::::::::::::::::::::::::::::::::::::::::::::::::::::::::::::::::::::::::\n",
      "O jogador Ronaldo jogou 5 partidas e fez ao todo 9 gols: [2, 3, 1, 3, 0]\n",
      "::::::::::::::::::::::::::::::::::::::::::::::::::::::::::::::::::::::::::::::::\n",
      "- A chave nome tem o valor Ronaldo\n",
      "- A chave partidas tem o valor 5\n",
      "- A chave gols tem o valor [2, 3, 1, 3, 0]\n",
      "- A chave total_gols tem o valor 9\n",
      "::::::::::::::::::::::::::::::::::::::::::::::::::::::::::::::::::::::::::::::::\n",
      "O jogadorRonaldo fez 5 jogos:\n",
      "Na partida 0, fez 2 gols.\n",
      "Na partida 1, fez 3 gols.\n",
      "Na partida 2, fez 1 gols.\n",
      "Na partida 3, fez 3 gols.\n",
      "Na partida 4, fez 0 gols.\n",
      "Ao todo Ronaldo fez 9 gols no campeonato.\n"
     ]
    }
   ],
   "source": [
    "jogador = dict()\n",
    "\n",
    "jogador['nome'] = str(input('Nome do Jogador: '))\n",
    "jogador['partidas'] = int(input(f'Quantas partidas o {jogador[\"nome\"]} jogou? '))\n",
    "\n",
    "c = 0\n",
    "jogador['gols'] = []\n",
    "\n",
    "for c in range(0, jogador['partidas']):\n",
    "    gols = int(input(f'Quantos gols na partida {c}: '))\n",
    "    jogador['gols'].append(gols)\n",
    "    c += 1\n",
    "jogador['total_gols'] = sum(jogador['gols'])\n",
    "\n",
    "#1 Forma 01 de imprimir o resultado\n",
    "print('::' * 40)\n",
    "print(jogador)\n",
    "\n",
    "#2 Forma 02 de imprimir o resultado\n",
    "print('::' * 40)\n",
    "print(f'O jogador {jogador[\"nome\"]} jogou {jogador[\"partidas\"]} partidas e fez ao todo {jogador[\"total_gols\"]} gols: {jogador[\"gols\"]}')\n",
    "\n",
    "#3 Forma 03 de imprimir o resultado\n",
    "print('::' * 40)\n",
    "for k, v in jogador.items():\n",
    "    print(f'- A chave {k} tem o valor {v}')\n",
    "\n",
    "#4 Forma 04 de imprimir o resultado\n",
    "print('::' * 40)\n",
    "print(f'O jogador{jogador[\"nome\"]} fez {jogador[\"partidas\"]} jogos:')\n",
    "for i in range(0, jogador['partidas']):\n",
    "    print(f'Na partida {i}, fez {jogador[\"gols\"][i]} gols.')\n",
    "print(f'Ao todo {jogador[\"nome\"]} fez {jogador[\"total_gols\"]} gols no campeonato.')"
   ]
  },
  {
   "cell_type": "code",
   "execution_count": 23,
   "id": "de8bebf7",
   "metadata": {},
   "outputs": [
    {
     "name": "stdout",
     "output_type": "stream",
     "text": [
      "Na partida 0, fez 2\n",
      "Na partida 1, fez 1\n",
      "Na partida 2, fez 3\n",
      "Na partida 3, fez 0\n"
     ]
    }
   ],
   "source": [
    "print(f'O jogador{jogador[\"nome\"]} fez {jogador[\"partidas\"]} jogos:')\n",
    "for i in range(0, jogador['partidas']):\n",
    "    print(f'Na partida {i}, fez {jogador[\"gols\"][i]} gols.')\n",
    "print(f'Ao todo {jogador[\"nome\"]} fez {jogador[\"total_gols\"]} gols no campeonato.')"
   ]
  }
 ],
 "metadata": {
  "kernelspec": {
   "display_name": "Python 3 (ipykernel)",
   "language": "python",
   "name": "python3"
  },
  "language_info": {
   "codemirror_mode": {
    "name": "ipython",
    "version": 3
   },
   "file_extension": ".py",
   "mimetype": "text/x-python",
   "name": "python",
   "nbconvert_exporter": "python",
   "pygments_lexer": "ipython3",
   "version": "3.9.12"
  }
 },
 "nbformat": 4,
 "nbformat_minor": 5
}
