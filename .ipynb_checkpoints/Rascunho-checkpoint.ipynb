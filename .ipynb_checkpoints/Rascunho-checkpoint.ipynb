{
 "cells": [
  {
   "cell_type": "code",
   "execution_count": 5,
   "id": "86a70d37",
   "metadata": {},
   "outputs": [
    {
     "name": "stdout",
     "output_type": "stream",
     "text": [
      "~~~~~~~~~~~~~~~~~~~~~~~~~~~~~~~~~~~~~~~~~~~~~~~~~~\n",
      "               MERCEARIA DO KINUKS                \n",
      "~~~~~~~~~~~~~~~~~~~~~~~~~~~~~~~~~~~~~~~~~~~~~~~~~~\n",
      "Informe o produto: cadeir\n",
      "Informe o valor : R$ 400\n",
      "Deseja informar mais produtos? [S/N]: s\n",
      "Informe o produto: bota\n",
      "Informe o valor : R$ 600\n",
      "Deseja informar mais produtos? [S/N]: s\n",
      "Informe o produto: celular\n",
      "Informe o valor : R$ 1500\n",
      "Deseja informar mais produtos? [S/N]: n\n",
      "O total da compra foi de R$2500.0........................\n",
      "Foram comprados 1 acima de R$ 1000.00 reais\n",
      "O produto mais barato foi celular ao valor de R$400.0 reais\n",
      "Até breve!\n"
     ]
    }
   ],
   "source": [
    "print('~' * 50)\n",
    "print('{:^50}'.format('MERCEARIA DO KINUKS'))\n",
    "print('~' * 50)\n",
    "\n",
    "#variáveis\n",
    "qtd_total = 0\n",
    "qtd_maior1000 = 0\n",
    "preco_total = 0\n",
    "nome_maisbarato = ''\n",
    "\n",
    "while True:\n",
    "    produto = str(input('Informe o produto: ')).strip()\n",
    "    preco = float(input('Informe o valor : R$ '))\n",
    "    qtd_total += 1\n",
    "    preco_total += preco\n",
    "    if preco > 1000:\n",
    "        qtd_maior1000 += 1\n",
    "    if qtd_total == 1:\n",
    "        mais_barato = preco\n",
    "        nome_maisbarato = produto\n",
    "    else:\n",
    "        if preco < mais_barato:\n",
    "            mais_barato = preco\n",
    "            nome_maisbarato = produto\n",
    "    decisao = ' '\n",
    "    while decisao not in 'SN':\n",
    "        decisao = str(input('Deseja informar mais produtos? [S/N]: ')).strip().upper()[0]\n",
    "    if decisao in 'Nn':\n",
    "        break\n",
    "\n",
    "\n",
    "print('O total da compra foi de R${}'.format(preco_total))\n",
    "print(f'Foram comprados {qtd_maior1000} acima de R$ 1000.00 reais')\n",
    "print(f'O produto mais barato foi {produto} ao valor de R${mais_barato} reais')\n",
    "\n",
    "print('Até breve!')"
   ]
  }
 ],
 "metadata": {
  "kernelspec": {
   "display_name": "Python 3 (ipykernel)",
   "language": "python",
   "name": "python3"
  },
  "language_info": {
   "codemirror_mode": {
    "name": "ipython",
    "version": 3
   },
   "file_extension": ".py",
   "mimetype": "text/x-python",
   "name": "python",
   "nbconvert_exporter": "python",
   "pygments_lexer": "ipython3",
   "version": "3.9.12"
  }
 },
 "nbformat": 4,
 "nbformat_minor": 5
}
