{
 "cells": [
  {
   "cell_type": "markdown",
   "id": "2f6556bd",
   "metadata": {},
   "source": [
    "### Ex-061: Funções - Exercício\n",
    "\n",
    "##### Criando Módulos\n",
    "\n",
    "Crie um módulo chamado moeda.py que tenha as funções incorporadas aumentar(), diminuir(), dobro() e metade(). Faça também um programa que importe esse módulo e use algumas dessas funções.\n",
    "\n",
    "Exercícios de videos by 'Curso em Video'"
   ]
  },
  {
   "cell_type": "code",
   "execution_count": 2,
   "id": "f2363a9d",
   "metadata": {},
   "outputs": [],
   "source": [
    "#arquivo moeda.py\n",
    "def aumentar(preco=0, taxa=0):\n",
    "    res = preco + (preco*taxa)/100\n",
    "    return res\n",
    "\n",
    "\n",
    "def diminuir(preco=0, taxa=0):\n",
    "    res = preco - (preco*taxa)/100\n",
    "    return res\n",
    "\n",
    "\n",
    "def dobro(preco=0):\n",
    "    res = preco * 2\n",
    "    return res\n",
    "\n",
    "\n",
    "def metade(preco=0):\n",
    "    res = preco / 2\n",
    "    return res\n",
    "\n",
    "\n",
    "def moeda(preco=0, moeda='R$'):\n",
    "    return f'{moeda}{preco:.2f}'.replace('.', ',')"
   ]
  },
  {
   "cell_type": "markdown",
   "id": "b4789a59",
   "metadata": {},
   "source": [
    "##### P/ PYCHARM\n",
    "\n",
    "É possível criar uma PASTA, dentro dela criar um módulo (exemplo, moeda.py) e importar as funções deste módulo para ser usar no programa principal. (VER VIDEOS 106 a 108 do curso em vídeo)\n",
    "\n",
    "#arquivo teste.py\n",
    "\n",
    "#importando módulo\n",
    "\n",
    "from ex108 import moeda\n",
    "\n",
    "while True:\n",
    "\n",
    "    p = float(input('Digite um valor R$ '))\n",
    "    \n",
    "    if p == 999:\n",
    "    \n",
    "        break\n",
    "    \n",
    "    #moeda.moeda() => módulo+função()\n",
    "    \n",
    "    print(f'O dobro de {moeda.moeda(p)} é {moeda.moeda(moeda.dobro(p))}')\n",
    "    \n",
    "    print(f'A metade de {moeda.moeda(p)} é {moeda.moeda(moeda.metade(p))}')\n",
    "    \n",
    "    print(f'O valor de {moeda.moeda(p)} acrescido em 10% é de {moeda.moeda(moeda.aumentar(p, 10))}')\n",
    "    \n",
    "    print(f'O valor de {moeda.moeda(p)} reduzido em 10% é de {moeda.moeda(moeda.diminuir(p, 10))}')\n",
    "\n",
    "print('Fim do Programa')"
   ]
  },
  {
   "cell_type": "code",
   "execution_count": 7,
   "id": "2fef09db",
   "metadata": {},
   "outputs": [
    {
     "name": "stdout",
     "output_type": "stream",
     "text": [
      "Digite um valor R$ 200\n",
      "O dobro de R$200,00 é R$400,00\n",
      "A metade de R$200,00 é R$100,00\n",
      "O valor de R$200,00 acrescido em 10% é de R$220,00\n",
      "O valor de R$200,00 reduzido em 10% é de R$180,00\n",
      "Digite um valor R$ 999\n",
      "Fim do Programa\n"
     ]
    }
   ],
   "source": [
    "while True:\n",
    "    p = float(input('Digite um valor R$ '))\n",
    "    if p == 999:\n",
    "        break\n",
    "    #moeda.moeda() => módulo+função()\n",
    "    print(f'O dobro de {moeda(p)} é {moeda(dobro(p))}')\n",
    "    print(f'A metade de {moeda(p)} é {moeda(metade(p))}')\n",
    "    print(f'O valor de {moeda(p)} acrescido em 10% é de {moeda(aumentar(p, 10))}')\n",
    "    print(f'O valor de {moeda(p)} reduzido em 10% é de {moeda(diminuir(p, 10))}')\n",
    "\n",
    "print('Fim do Programa')"
   ]
  }
 ],
 "metadata": {
  "kernelspec": {
   "display_name": "Python 3 (ipykernel)",
   "language": "python",
   "name": "python3"
  },
  "language_info": {
   "codemirror_mode": {
    "name": "ipython",
    "version": 3
   },
   "file_extension": ".py",
   "mimetype": "text/x-python",
   "name": "python",
   "nbconvert_exporter": "python",
   "pygments_lexer": "ipython3",
   "version": "3.9.12"
  }
 },
 "nbformat": 4,
 "nbformat_minor": 5
}
