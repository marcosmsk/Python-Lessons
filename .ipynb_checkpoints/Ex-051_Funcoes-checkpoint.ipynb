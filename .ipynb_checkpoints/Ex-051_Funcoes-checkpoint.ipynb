{
 "cells": [
  {
   "cell_type": "markdown",
   "id": "2f6556bd",
   "metadata": {},
   "source": [
    "### Ex-051: Funções - Introdução\n",
    "\n",
    "Faça um programa para exemplificar uma função\n",
    "\n",
    "Exercícios de videos by 'Curso em Video'"
   ]
  },
  {
   "cell_type": "code",
   "execution_count": 2,
   "id": "5d36c391",
   "metadata": {},
   "outputs": [
    {
     "name": "stdout",
     "output_type": "stream",
     "text": [
      "s = 2a + b\n",
      "a = 4 e b = 5\n",
      "13\n",
      "a = 5 e b = 4\n",
      "14\n"
     ]
    }
   ],
   "source": [
    "def soma(a, b):\n",
    "    print(f'a = {a} e b = {b}')\n",
    "    s = 2*a + b\n",
    "    print(s)\n",
    "    \n",
    "#Programa Principal\n",
    "print('s = 2a + b')\n",
    "soma(4, 5)\n",
    "\n",
    "#é possível alterar a ordem dos parâmetros da função desde que seja explícito\n",
    "soma(a=5, b=4)"
   ]
  },
  {
   "cell_type": "markdown",
   "id": "1eaa0e64",
   "metadata": {},
   "source": [
    " #### Conceito de EMPACOTAMENTO\n",
    " \n",
    " Possibilidade de inserir valores de quantidades indefinidas\n",
    " \n",
    " ##### 1\n",
    " \n",
    " Retorna TUPLAS"
   ]
  },
  {
   "cell_type": "code",
   "execution_count": 3,
   "id": "2448e4f1",
   "metadata": {},
   "outputs": [
    {
     "name": "stdout",
     "output_type": "stream",
     "text": [
      "(2, 1, 7)\n",
      "(1, 3, 2, 5)\n",
      "(5, 6)\n"
     ]
    }
   ],
   "source": [
    "def contador(*num):\n",
    "    print(num)\n",
    "    \n",
    "contador(2, 1, 7)\n",
    "contador(1, 3, 2, 5)\n",
    "contador(5, 6)"
   ]
  },
  {
   "cell_type": "markdown",
   "id": "0dfaf7e8",
   "metadata": {},
   "source": [
    "###### 2\n",
    "Funções com LISTAS"
   ]
  },
  {
   "cell_type": "code",
   "execution_count": 4,
   "id": "29335cc6",
   "metadata": {},
   "outputs": [
    {
     "name": "stdout",
     "output_type": "stream",
     "text": [
      "[8, 10, 0, 12, 2]\n"
     ]
    }
   ],
   "source": [
    "def dobra(lista):\n",
    "    pos = 0\n",
    "    while pos < len(lista):\n",
    "        lista[pos] *= 2\n",
    "        pos +=1\n",
    "\n",
    "valores = [4, 5, 0, 6, 1]\n",
    "dobra(valores)\n",
    "print(valores)"
   ]
  },
  {
   "cell_type": "markdown",
   "id": "2d8a4229",
   "metadata": {},
   "source": [
    "##### 3\n",
    "Programa que tenha uma função chamada escreva(), que recebe um texto qqr como parâmetro e mostre uma mensagem com tamanho adaptável"
   ]
  },
  {
   "cell_type": "code",
   "execution_count": 11,
   "id": "5c6bf262",
   "metadata": {},
   "outputs": [
    {
     "name": "stdout",
     "output_type": "stream",
     "text": [
      "~~~~~~~~~~~~~~~~~~~\n",
      "  blablablablabla\n",
      "~~~~~~~~~~~~~~~~~~~\n",
      "~~~~~~~~~~~~~~\n",
      "  tatatatata\n",
      "~~~~~~~~~~~~~~\n"
     ]
    }
   ],
   "source": [
    "def escreva(msg):\n",
    "    tam = len(msg) + 4\n",
    "    print('~' * tam)\n",
    "    print(f'  {msg}')\n",
    "    print('~' * tam)\n",
    "\n",
    "# Programa principal\n",
    "escreva('blablablablabla')\n",
    "\n",
    "escreva('tatatatata')"
   ]
  }
 ],
 "metadata": {
  "kernelspec": {
   "display_name": "Python 3 (ipykernel)",
   "language": "python",
   "name": "python3"
  },
  "language_info": {
   "codemirror_mode": {
    "name": "ipython",
    "version": 3
   },
   "file_extension": ".py",
   "mimetype": "text/x-python",
   "name": "python",
   "nbconvert_exporter": "python",
   "pygments_lexer": "ipython3",
   "version": "3.9.12"
  }
 },
 "nbformat": 4,
 "nbformat_minor": 5
}
