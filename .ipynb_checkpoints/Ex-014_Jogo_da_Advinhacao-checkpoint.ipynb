{
 "cells": [
  {
   "cell_type": "markdown",
   "id": "094be27d",
   "metadata": {},
   "source": [
    "### Ex-014: Jogo da Adivinhação\n",
    "\n",
    "Faça um programa em que o computador escolhe um número dentro de um intervalo e peça para o usuário tentar descobrir qual foi o número escolhido pelo computador.\n",
    "Deverá escrever na tela se o usuário venceu ou perdeu.\n",
    "\n",
    "Exercícios de videos by 'Curso em Video'"
   ]
  },
  {
   "cell_type": "code",
   "execution_count": 32,
   "id": "16394cd3",
   "metadata": {},
   "outputs": [
    {
     "name": "stdout",
     "output_type": "stream",
     "text": [
      "-=-=-=-=-=-=-=-=-=-=-=-=-=-=-=-=-=-=-=-=-=-=-=-=-=-=-=-=-=\n",
      "Vou pensar em um número entre 0 e 5. Tente adivinhar...\n",
      "-=-=-=-=-=-=-=-=-=-=-=-=-=-=-=-=-=-=-=-=-=-=-=-=-=-=-=-=-=\n",
      "Qual número você acha que eu pensei? 32\n",
      "\u001b[1;30;47mProcessando...\u001b[m\n",
      "Você ERROU! Eu pensei no 0.\n"
     ]
    }
   ],
   "source": [
    "from random import randint\n",
    "from time import sleep #segura a proxima linha de comando por X segundos\n",
    "\n",
    "computador = randint(0, 5)\n",
    "#para verificar se o randint está funcionando vc pode imprimir para verificar\n",
    "#print('Pensei em {}.'.format(computador))\n",
    "print('-=' * 29)\n",
    "print('Vou pensar em um número entre 0 e 5. Tente adivinhar...')\n",
    "print('-=' * 29)\n",
    "jogador = int(input('Qual número você acha que eu pensei? '))\n",
    "print('\\033[1;30;47mProcessando...\\033[m')\n",
    "sleep(3)\n",
    "if jogador == computador:\n",
    "    print('Parabéns! você adivinhou!')\n",
    "else:\n",
    "    print('Você ERROU! Eu pensei no {}.'.format(computador))"
   ]
  }
 ],
 "metadata": {
  "kernelspec": {
   "display_name": "Python 3 (ipykernel)",
   "language": "python",
   "name": "python3"
  },
  "language_info": {
   "codemirror_mode": {
    "name": "ipython",
    "version": 3
   },
   "file_extension": ".py",
   "mimetype": "text/x-python",
   "name": "python",
   "nbconvert_exporter": "python",
   "pygments_lexer": "ipython3",
   "version": "3.9.12"
  }
 },
 "nbformat": 4,
 "nbformat_minor": 5
}
