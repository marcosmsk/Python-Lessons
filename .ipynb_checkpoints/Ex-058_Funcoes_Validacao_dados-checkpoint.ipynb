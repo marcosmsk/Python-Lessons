{
 "cells": [
  {
   "cell_type": "markdown",
   "id": "2f6556bd",
   "metadata": {},
   "source": [
    "### Ex-058: Funções - Exercício\n",
    "\n",
    "##### Validação de entrada de Dados\n",
    "\n",
    "Faça um programa que tenha a função leiaInt() que vai funcionar de forma semelhante à função input() do Python. Porém, leiaInt() deve efetuar uma validação para aceitar apenas valores numéricos.\n",
    "\n",
    "Exercícios de videos by 'Curso em Video'"
   ]
  },
  {
   "cell_type": "code",
   "execution_count": 2,
   "id": "f2363a9d",
   "metadata": {},
   "outputs": [
    {
     "name": "stdout",
     "output_type": "stream",
     "text": [
      "Digite um numero: adf\n",
      "\u001b[31mERRO! Digite um número válido.\u001b[m\n",
      "Digite um numero: d\n",
      "\u001b[31mERRO! Digite um número válido.\u001b[m\n",
      "Digite um numero: 12a\n",
      "\u001b[31mERRO! Digite um número válido.\u001b[m\n",
      "Digite um numero: 1 a\n",
      "\u001b[31mERRO! Digite um número válido.\u001b[m\n",
      "Digite um numero: 1\n",
      "Você acabou de digitar o número 1.\n"
     ]
    }
   ],
   "source": [
    "def leiaInt(msg):\n",
    "    while True:\n",
    "        num = str(input(msg))\n",
    "        if num.isnumeric():\n",
    "            return num\n",
    "        else:\n",
    "            print('\\033[31mERRO! Digite um número válido.\\033[m')\n",
    "\n",
    "\n",
    "#Programa principal\n",
    "n = leiaInt('Digite um numero: ')\n",
    "print(f'Você acabou de digitar o número {n}.')"
   ]
  }
 ],
 "metadata": {
  "kernelspec": {
   "display_name": "Python 3 (ipykernel)",
   "language": "python",
   "name": "python3"
  },
  "language_info": {
   "codemirror_mode": {
    "name": "ipython",
    "version": 3
   },
   "file_extension": ".py",
   "mimetype": "text/x-python",
   "name": "python",
   "nbconvert_exporter": "python",
   "pygments_lexer": "ipython3",
   "version": "3.9.12"
  }
 },
 "nbformat": 4,
 "nbformat_minor": 5
}
