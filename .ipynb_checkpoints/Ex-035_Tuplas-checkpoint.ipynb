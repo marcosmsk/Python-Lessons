{
 "cells": [
  {
   "cell_type": "markdown",
   "id": "b028c421",
   "metadata": {},
   "source": [
    "### Ex-035: TUPLAS (propriedades)\n",
    "\n",
    "Propriedades das Tuplas\n",
    "\n",
    "Exercícios de videos by 'Curso em Video'"
   ]
  },
  {
   "cell_type": "code",
   "execution_count": 1,
   "id": "9660e1b6",
   "metadata": {},
   "outputs": [
    {
     "name": "stdout",
     "output_type": "stream",
     "text": [
      "('zero', 'um', 'dois', 'três', 'quatro')\n",
      "('treze', 'quatorze', 'quinzedezesseis', 'dezessete', 'dezoito')\n",
      "['cinco', 'dez', 'dezessete', 'dezoito', 'dois', 'doze', 'nove', 'oito', 'onze', 'quatorze', 'quatro', 'quinzedezesseis', 'seis', 'sete', 'treze', 'três', 'um', 'zero']\n",
      "posição 9ª\n"
     ]
    }
   ],
   "source": [
    "# TUPLAS\n",
    "\n",
    "cont = ('zero', 'um', 'dois', 'três',\n",
    "        'quatro', 'cinco', 'seis', 'sete',\n",
    "        'oito', 'nove', 'dez', 'onze',\n",
    "        'doze', 'treze', 'quatorze', 'quinze'\n",
    "        'dezesseis', 'dezessete', 'dezoito')\n",
    "\n",
    "print(f'{cont[:5]}')\n",
    "print(f'{cont[-5:]}')\n",
    "#ordem alfabética\n",
    "print(f'{sorted(cont)}')\n",
    "#posição específica quando se sabe o nome do item que está na tupla\n",
    "print(f'posição {cont.index(\"oito\")+1}ª')"
   ]
  },
  {
   "cell_type": "markdown",
   "id": "0748dd50",
   "metadata": {},
   "source": [
    "#### Exercício com TUPLAS\n",
    "\n",
    "Crie um programa que leia 4 valores pelo teclado e guarde-os em uma TUPLA. \n",
    "Mostre:\n",
    "a) Quantas vezes apareceu o valor 9\n",
    "b) Em que posição foi digitado o primeiro valor 3.\n",
    "c) Quais foram os números PARES\n"
   ]
  },
  {
   "cell_type": "code",
   "execution_count": 2,
   "id": "115eb9a8",
   "metadata": {},
   "outputs": [
    {
     "name": "stdout",
     "output_type": "stream",
     "text": [
      "Digite um número: 5\n",
      "Digite outro número: 6\n",
      "Digite mais um número: 4\n",
      "Digite o último número: 2\n",
      "Os números digitados são: (5, 6, 4, 2).\n",
      "Qual valor você quer saber quantas vezes apareceu na TUPLA?: 5\n",
      "O número 5 apareceu 1x.\n",
      "Qual número você deseja saber a posição? 2\n",
      "O número 2 aparece na 4ª posição.\n",
      "6 4 2 "
     ]
    }
   ],
   "source": [
    "#criando uma TUPLA\n",
    "num = (int(input('Digite um número: ')),\n",
    "       int(input('Digite outro número: ')),\n",
    "       int(input('Digite mais um número: ')),\n",
    "       int(input('Digite o último número: ')))\n",
    "\n",
    "print('Os números digitados são: {}.'.format(num))\n",
    "\n",
    "#a)\n",
    "ex_a = int(input('Qual valor você quer saber quantas vezes apareceu na TUPLA?: '))\n",
    "print('O número {} apareceu {}x.'.format(ex_a, num.count(ex_a)))\n",
    "\n",
    "#b)\n",
    "ex_b = int(input('Qual número você deseja saber a posição? '))\n",
    "print('O número {} aparece na {}ª posição.'.format(ex_b, num.index(ex_b)+1))\n",
    "\n",
    "#c)\n",
    "for i in num:\n",
    "       if i % 2 == 0:\n",
    "              print('Numeros pares: 'i, end=' ')"
   ]
  },
  {
   "cell_type": "markdown",
   "id": "20630175",
   "metadata": {},
   "source": [
    "#### Formatação em tuplas\n",
    "\n",
    "Crie um programa que tenha uma TUPLA única com nomes de produtos e seus respectivos preços na sequência. No final, mostre uma listagem de preços organizados e tabulados."
   ]
  },
  {
   "cell_type": "code",
   "execution_count": null,
   "id": "beaae0fd",
   "metadata": {},
   "outputs": [],
   "source": [
    "listagem = ('Lápis', 1.75,\n",
    "            'Borracha', 2,\n",
    "            'Caderno', 15.90,\n",
    "            'Estojo', 25,\n",
    "            'Transferidor', 4.20,\n",
    "            'Compasso', 9.99,\n",
    "            'Mochila', 120.32,\n",
    "            'Canetas', 22.30,\n",
    "            'Livros', 34.90)\n",
    "\n",
    "print('='*40)\n",
    "print(f'{\"Tabela de Preços\":^40}')\n",
    "print('='*40)\n",
    "\n",
    "for posicao in range(0, len(listagem)):\n",
    "    if posicao % 2 == 0:\n",
    "        print(f'{listagem[posicao]:.<30}', end='')\n",
    "    else:\n",
    "        print(f'R${listagem[posicao]:>8.2f}')"
   ]
  }
 ],
 "metadata": {
  "kernelspec": {
   "display_name": "Python 3 (ipykernel)",
   "language": "python",
   "name": "python3"
  },
  "language_info": {
   "codemirror_mode": {
    "name": "ipython",
    "version": 3
   },
   "file_extension": ".py",
   "mimetype": "text/x-python",
   "name": "python",
   "nbconvert_exporter": "python",
   "pygments_lexer": "ipython3",
   "version": "3.9.12"
  }
 },
 "nbformat": 4,
 "nbformat_minor": 5
}
