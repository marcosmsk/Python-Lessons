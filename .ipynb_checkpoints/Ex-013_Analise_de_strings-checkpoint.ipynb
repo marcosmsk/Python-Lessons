{
 "cells": [
  {
   "cell_type": "markdown",
   "id": "094be27d",
   "metadata": {},
   "source": [
    "### Ex-013: Análise de Strings\n",
    "\n",
    "Faça um programa que imprime a primeira e a última palavra da frase.\n",
    "\n",
    "Exercícios de videos by 'Curso em Video'"
   ]
  },
  {
   "cell_type": "code",
   "execution_count": 3,
   "id": "16394cd3",
   "metadata": {},
   "outputs": [
    {
     "name": "stdout",
     "output_type": "stream",
     "text": [
      "Digite o seu nome completo: a s d f g  j\n",
      "['a', 's', 'd', 'f', 'g', 'j']\n",
      "Seu primeiro nome é a.\n",
      "Seu último nome é j.\n"
     ]
    }
   ],
   "source": [
    "n = str(input('Digite o seu nome completo: ')).strip()\n",
    "#split() gera uma lista com o seu nome separado\n",
    "nome = n.split()\n",
    "print(nome)\n",
    "print('Seu primeiro nome é {}.'.format(nome[0]))\n",
    "print('Seu último nome é {}.'.format(nome[-1]))"
   ]
  }
 ],
 "metadata": {
  "kernelspec": {
   "display_name": "Python 3 (ipykernel)",
   "language": "python",
   "name": "python3"
  },
  "language_info": {
   "codemirror_mode": {
    "name": "ipython",
    "version": 3
   },
   "file_extension": ".py",
   "mimetype": "text/x-python",
   "name": "python",
   "nbconvert_exporter": "python",
   "pygments_lexer": "ipython3",
   "version": "3.9.12"
  }
 },
 "nbformat": 4,
 "nbformat_minor": 5
}
