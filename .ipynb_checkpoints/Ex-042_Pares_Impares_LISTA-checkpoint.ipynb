{
 "cells": [
  {
   "cell_type": "markdown",
   "id": "b028c421",
   "metadata": {},
   "source": [
    "### Ex-042: Propriedades da LISTA\n",
    "\n",
    "Exercícios de videos by 'Curso em Video'"
   ]
  },
  {
   "cell_type": "markdown",
   "id": "94131992",
   "metadata": {},
   "source": [
    "##### 1\n",
    "\n",
    "\n",
    "Crie um programa onde o usuário possa digitar 07 valores numpericos e cadastre-os em uma lista única que mantenha separados os valores pares e impares. No final, mostre os valores pares e ímpares em ordem crescente.\n"
   ]
  },
  {
   "cell_type": "code",
   "execution_count": 1,
   "id": "b804dfe4",
   "metadata": {},
   "outputs": [
    {
     "name": "stdout",
     "output_type": "stream",
     "text": [
      "Digite o 1º: 1\n",
      "Digite o 2º: 5\n",
      "Digite o 3º: 8\n",
      "Digite o 4º: 6\n",
      "Digite o 5º: 3\n",
      "Digite o 6º: 2\n",
      "Digite o 7º: 4\n",
      "PARES: [2, 4, 6, 8]\n",
      "IMPARES: [1, 3, 5]\n"
     ]
    }
   ],
   "source": [
    "lista = [[], []]\n",
    "for n in range(1,8):\n",
    "    num = int(input(f'Digite o {n}º: '))\n",
    "    if num % 2 == 0:\n",
    "        lista[0].append(num)\n",
    "    else:\n",
    "        lista[1].append(num)\n",
    "\n",
    "lista[0].sort()\n",
    "lista[1].sort()\n",
    "print(f'PARES: {lista[0]}')\n",
    "print(f'IMPARES: {lista[1]}')\n"
   ]
  }
 ],
 "metadata": {
  "kernelspec": {
   "display_name": "Python 3 (ipykernel)",
   "language": "python",
   "name": "python3"
  },
  "language_info": {
   "codemirror_mode": {
    "name": "ipython",
    "version": 3
   },
   "file_extension": ".py",
   "mimetype": "text/x-python",
   "name": "python",
   "nbconvert_exporter": "python",
   "pygments_lexer": "ipython3",
   "version": "3.9.12"
  }
 },
 "nbformat": 4,
 "nbformat_minor": 5
}
