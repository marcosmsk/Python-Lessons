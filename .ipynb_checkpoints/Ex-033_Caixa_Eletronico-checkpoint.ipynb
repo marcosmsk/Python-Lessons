{
 "cells": [
  {
   "cell_type": "markdown",
   "id": "b028c421",
   "metadata": {},
   "source": [
    "### Ex-033: Caixa Eletrônico\n",
    "\n",
    "Elabore um programa que seja capaz de receber o valor que o usuário deseja sacar e entregar este valor distribuído em notas de 50, 20, 10 e 1.\n",
    "\n",
    "Exercícios de videos by 'Curso em Video'"
   ]
  },
  {
   "cell_type": "code",
   "execution_count": 23,
   "id": "fd83f048",
   "metadata": {},
   "outputs": [
    {
     "name": "stdout",
     "output_type": "stream",
     "text": [
      "Digite a quantia que deseja sacar: R$ 175\n",
      "Saque de R$175,00\n",
      "3 de R$50,00\n",
      "1 de R$20,00\n",
      "5 de R$1,00\n",
      "FIM\n"
     ]
    }
   ],
   "source": [
    "valor = int(input('Digite a quantia que deseja sacar: R$ '))\n",
    "\n",
    "print(f'Saque de R${valor},00')\n",
    "\n",
    "total = valor\n",
    "\n",
    "cedula_base = 50\n",
    "qtd_ced = 0\n",
    "\n",
    "# 110 reais\n",
    "\n",
    "while True:\n",
    "    if total >= cedula_base:\n",
    "        total = total - cedula_base\n",
    "        qtd_ced += 1\n",
    "    else:\n",
    "        if qtd_ced > 0:\n",
    "            print(f'{qtd_ced} cédulas de R${cedula_base},00')\n",
    "        if cedula_base == 50:\n",
    "            cedula_base = 20\n",
    "            qtd_ced = 0\n",
    "        elif cedula_base == 20:\n",
    "            cedula_base = 10\n",
    "            qtd_ced = 0\n",
    "        elif cedula_base == 10:\n",
    "            cedula_base = 1\n",
    "            qtd_ced = 0\n",
    "        if total == 0:\n",
    "            break\n",
    "    \n",
    "\n",
    "print('FIM')\n",
    "    \n",
    "\n"
   ]
  }
 ],
 "metadata": {
  "kernelspec": {
   "display_name": "Python 3 (ipykernel)",
   "language": "python",
   "name": "python3"
  },
  "language_info": {
   "codemirror_mode": {
    "name": "ipython",
    "version": 3
   },
   "file_extension": ".py",
   "mimetype": "text/x-python",
   "name": "python",
   "nbconvert_exporter": "python",
   "pygments_lexer": "ipython3",
   "version": "3.9.12"
  }
 },
 "nbformat": 4,
 "nbformat_minor": 5
}
