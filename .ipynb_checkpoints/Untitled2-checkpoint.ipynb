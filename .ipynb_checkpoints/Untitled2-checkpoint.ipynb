{
 "cells": [
  {
   "cell_type": "markdown",
   "id": "75a0fd30",
   "metadata": {},
   "source": [
    "### Ex-004: Dobro, Triplo e Raiz Quadrada\n",
    "\n",
    "Faça um programa que apresente o dobro, o triplo e a raiz quadrada do número digitado\n",
    "\n",
    "Exercícios de videos by 'Curso em Video'"
   ]
  },
  {
   "cell_type": "code",
   "execution_count": 3,
   "id": "6656e788",
   "metadata": {},
   "outputs": [
    {
     "name": "stdout",
     "output_type": "stream",
     "text": [
      "Digite um número qualquer: 9\n",
      "Você digitou 9.0.\n",
      "O dobro é 18.0. \n",
      "O triplo é 27.0. \n",
      "E a sua raiz quadrada é 3.00\n"
     ]
    }
   ],
   "source": [
    "n = float(input('Digite um número qualquer: '))\n",
    "dobro = n * 2\n",
    "triplo = n * 3\n",
    "raiz_quadrada = n ** (1/2)\n",
    "print('Você digitou {}.'.format(n))\n",
    "print('O dobro é {}. \\nO triplo é {}. \\nE a sua raiz quadrada é {:.2f}'.format(dobro, triplo, raiz_quadrada))"
   ]
  }
 ],
 "metadata": {
  "kernelspec": {
   "display_name": "Python 3 (ipykernel)",
   "language": "python",
   "name": "python3"
  },
  "language_info": {
   "codemirror_mode": {
    "name": "ipython",
    "version": 3
   },
   "file_extension": ".py",
   "mimetype": "text/x-python",
   "name": "python",
   "nbconvert_exporter": "python",
   "pygments_lexer": "ipython3",
   "version": "3.9.12"
  }
 },
 "nbformat": 4,
 "nbformat_minor": 5
}
