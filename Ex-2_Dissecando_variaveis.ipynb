{
 "cells": [
  {
   "cell_type": "markdown",
   "id": "82abe86b",
   "metadata": {},
   "source": [
    "### Ex-2 Dissecando uma Variável\n",
    "\n",
    "Exercícios de videos by 'Curso em Video'"
   ]
  },
  {
   "cell_type": "code",
   "execution_count": 7,
   "id": "925f8d60",
   "metadata": {},
   "outputs": [
    {
     "name": "stdout",
     "output_type": "stream",
     "text": [
      "Digite algo: aT\n",
      "O tipo primitivo desse valor é  <class 'str'>\n",
      "É composto apenas de espaço?  False\n",
      "É numérico?  False\n",
      "É alfabético?  True\n",
      "É alfanumérico?  True\n",
      "Está em letras maiúsculas?  False\n",
      "Está em letras minúsculas?  False\n",
      "Está capitalizada?  False\n"
     ]
    }
   ],
   "source": [
    "obj = input('Digite algo: ')\n",
    "print('O tipo primitivo desse valor é ', type(obj))\n",
    "print('É composto apenas de espaço? ', obj.isspace())\n",
    "print('É numérico? ', obj.isnumeric())\n",
    "print('É alfabético? ', obj.isalpha())\n",
    "print('É alfanumérico? ', obj.isalnum())\n",
    "print('Está em letras maiúsculas? ', obj.isupper())\n",
    "print('Está em letras minúsculas? ', obj.islower())\n",
    "#capitalizado = a primeira letra é maiúsculas\n",
    "print('Está capitalizada? ', obj.istitle())"
   ]
  }
 ],
 "metadata": {
  "kernelspec": {
   "display_name": "Python 3 (ipykernel)",
   "language": "python",
   "name": "python3"
  },
  "language_info": {
   "codemirror_mode": {
    "name": "ipython",
    "version": 3
   },
   "file_extension": ".py",
   "mimetype": "text/x-python",
   "name": "python",
   "nbconvert_exporter": "python",
   "pygments_lexer": "ipython3",
   "version": "3.9.12"
  }
 },
 "nbformat": 4,
 "nbformat_minor": 5
}
