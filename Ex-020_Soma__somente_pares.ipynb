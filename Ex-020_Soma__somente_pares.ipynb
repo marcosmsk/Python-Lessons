{
 "cells": [
  {
   "cell_type": "markdown",
   "id": "094be27d",
   "metadata": {},
   "source": [
    "### Ex-020: Soma Somente de Pares\n",
    "\n",
    "Elabore um programa em que o usuário irá digitar 6 numeros e o programa irá somar apenas os números pares.\n",
    "\n",
    "Exercícios de videos by 'Curso em Video'"
   ]
  },
  {
   "cell_type": "code",
   "execution_count": 7,
   "id": "61cea5f3",
   "metadata": {},
   "outputs": [
    {
     "name": "stdout",
     "output_type": "stream",
     "text": [
      "Digite um valor: 2\n",
      "Digite um valor: 3\n",
      "Digite um valor: 2\n",
      "Digite um valor: 3\n",
      "Digite um valor: 1\n",
      "Digite um valor: 1\n",
      "Você informou 6 números pares e a soma foi 4.\n"
     ]
    }
   ],
   "source": [
    "soma = 0\n",
    "for c in range(1, 7):\n",
    "    num = int(input('Digite um valor: '))\n",
    "    if num % 2 == 0:\n",
    "        soma += num\n",
    "        cont += 1\n",
    "print('Você informou {} números pares e a soma foi {}.'.format(cont, soma))"
   ]
  }
 ],
 "metadata": {
  "kernelspec": {
   "display_name": "Python 3 (ipykernel)",
   "language": "python",
   "name": "python3"
  },
  "language_info": {
   "codemirror_mode": {
    "name": "ipython",
    "version": 3
   },
   "file_extension": ".py",
   "mimetype": "text/x-python",
   "name": "python",
   "nbconvert_exporter": "python",
   "pygments_lexer": "ipython3",
   "version": "3.9.12"
  }
 },
 "nbformat": 4,
 "nbformat_minor": 5
}
