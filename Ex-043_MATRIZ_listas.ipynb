{
 "cells": [
  {
   "cell_type": "markdown",
   "id": "b028c421",
   "metadata": {},
   "source": [
    "### Ex-043: MATRIZ - Introdução\n",
    "\n",
    "Exercícios de videos by 'Curso em Video'"
   ]
  },
  {
   "cell_type": "markdown",
   "id": "94131992",
   "metadata": {},
   "source": [
    "##### 1\n",
    "\n",
    "\n",
    "Crie um programa que cria uma MATRIZ 3X3 e preencha com valores lidos pelo teclado. No final, mostre a matriz na tela com a formatação correta.\n",
    "\n",
    "Responda:\n",
    "\n",
    "a) A soma de todos os valores pares digitados.\n",
    "\n",
    "b) A soma dos valores da terceira coluna.\n",
    "\n",
    "c) O maior valor da segunda linha.\n"
   ]
  },
  {
   "cell_type": "code",
   "execution_count": 2,
   "id": "b804dfe4",
   "metadata": {},
   "outputs": [
    {
     "name": "stdout",
     "output_type": "stream",
     "text": [
      "Digite um valor para [0][0]: 14\n",
      "Digite um valor para [0][1]: 5\n",
      "Digite um valor para [0][2]: 2\n",
      "Digite um valor para [1][0]: 0\n",
      "Digite um valor para [1][1]: 85\n",
      "Digite um valor para [1][2]: 62\n",
      "Digite um valor para [2][0]: 4\n",
      "Digite um valor para [2][1]: 13\n",
      "Digite um valor para [2][2]: 254\n",
      "-=-=-=-=-=-=-=-=-=-=-=-=-=-=-=-=-=-=-=-=-=-=-=-=-=-=-=-=-=-=\n",
      "[ 14  ][  5  ][  2  ]\n",
      "[  0  ][ 85  ][ 62  ]\n",
      "[  4  ][ 13  ][ 254 ]\n",
      "-=-=-=-=-=-=-=-=-=-=-=-=-=-=-=-=-=-=-=-=-=-=-=-=-=-=-=-=-=-=\n",
      "A soma dos valores pares é: 336\n",
      "A soma dos valores da terceira coluna é 318\n",
      "O maior valor da segunda linha é 85\n"
     ]
    }
   ],
   "source": [
    "matriz = [[0, 0, 0], [0, 0, 0], [0, 0, 0]]\n",
    "spar = scol = maior = 0\n",
    "\n",
    "# laço para LINHAS\n",
    "for l in range(0, 3):\n",
    "    #laço para COLUNAS:\n",
    "    for c in range(0, 3):\n",
    "        matriz[l][c] = int(input(f'Digite um valor para [{l}][{c}]: '))\n",
    "print('-='*30)\n",
    "# formatação de exibição\n",
    "for l in range(0, 3):\n",
    "    for c in range(0, 3):\n",
    "        print(f'[{matriz[l][c]:^5}]', end='')\n",
    "        if matriz[l][c] % 2 == 0:\n",
    "            spar += matriz[l][c]\n",
    "    print()\n",
    "print('-='*30)\n",
    "# A soma dos valores pares:\n",
    "print(f'A soma dos valores pares é: {spar}')\n",
    "\n",
    "# A soma dos valores da terceira coluna\n",
    "for l in range(0, 3):\n",
    "    scol += matriz[l][2]\n",
    "print(f'A soma dos valores da terceira coluna é {scol}')\n",
    "\n",
    "# O maior valor da segunda linha\n",
    "for c in range(0, 3):\n",
    "    if c == 0:\n",
    "        maior = matriz[1][c]\n",
    "    elif matriz[1][c] > maior:\n",
    "        maior = matriz[1][c]\n",
    "print(f'O maior valor da segunda linha é {maior}')\n"
   ]
  }
 ],
 "metadata": {
  "kernelspec": {
   "display_name": "Python 3 (ipykernel)",
   "language": "python",
   "name": "python3"
  },
  "language_info": {
   "codemirror_mode": {
    "name": "ipython",
    "version": 3
   },
   "file_extension": ".py",
   "mimetype": "text/x-python",
   "name": "python",
   "nbconvert_exporter": "python",
   "pygments_lexer": "ipython3",
   "version": "3.9.12"
  }
 },
 "nbformat": 4,
 "nbformat_minor": 5
}
