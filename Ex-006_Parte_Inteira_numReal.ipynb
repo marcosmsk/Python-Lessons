{
 "cells": [
  {
   "cell_type": "markdown",
   "id": "302f9041",
   "metadata": {},
   "source": [
    "### Ex-006: Analisando um número\n",
    "\n",
    "Faça um programa que analisa a partes do número real digitado\n",
    "\n",
    "Exercícios de videos by 'Curso em Video'"
   ]
  },
  {
   "cell_type": "code",
   "execution_count": null,
   "id": "d1077849",
   "metadata": {},
   "outputs": [],
   "source": [
    "#1º método\n",
    "num = float(input('Digite um número real: '))\n",
    "print('O valor digitado foi {} e o seu valor inteiro é {:.0f}'.format(num, num))"
   ]
  },
  {
   "cell_type": "code",
   "execution_count": 4,
   "id": "98503219",
   "metadata": {},
   "outputs": [
    {
     "name": "stdout",
     "output_type": "stream",
     "text": [
      "Digite um número real: 5.66\n",
      "O valor digitado foi 5.66 e o seu valor inteiro é 5\n"
     ]
    }
   ],
   "source": [
    "#2º método\n",
    "from math import trunc\n",
    "num = float(input('Digite um número real: '))\n",
    "print('O valor digitado foi {} e o seu valor inteiro é {}'.format(num, trunc(num)))"
   ]
  },
  {
   "cell_type": "code",
   "execution_count": 6,
   "id": "5905bde5",
   "metadata": {},
   "outputs": [
    {
     "name": "stdout",
     "output_type": "stream",
     "text": [
      "Digite um número real: 5.66\n",
      "O valor digitado foi 5.66 e o seu valor inteiro é 5\n"
     ]
    }
   ],
   "source": [
    "#3º metodo\n",
    "num = float(input('Digite um número real: '))\n",
    "print('O valor digitado foi {} e o seu valor inteiro é {}'.format(num, int(num)))"
   ]
  }
 ],
 "metadata": {
  "kernelspec": {
   "display_name": "Python 3 (ipykernel)",
   "language": "python",
   "name": "python3"
  },
  "language_info": {
   "codemirror_mode": {
    "name": "ipython",
    "version": 3
   },
   "file_extension": ".py",
   "mimetype": "text/x-python",
   "name": "python",
   "nbconvert_exporter": "python",
   "pygments_lexer": "ipython3",
   "version": "3.9.12"
  }
 },
 "nbformat": 4,
 "nbformat_minor": 5
}
