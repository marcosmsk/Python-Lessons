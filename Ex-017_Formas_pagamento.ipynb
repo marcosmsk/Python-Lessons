{
 "cells": [
  {
   "cell_type": "markdown",
   "id": "094be27d",
   "metadata": {},
   "source": [
    "### Ex-017: Formas de Pagamento de compras\n",
    "\n",
    "Escreva um programa que calcula o valor a ser pago por um produto:\n",
    "(1) à vista: dinheiro/cheque           10% de desconto\n",
    "(2) à vista: cartão débito/crédito      5% de desconto\n",
    "(3) 2x no cartão de crédito             preço normal\n",
    "(4) 3x ou mais no cartão de crédito     20% de juros\n",
    "\n",
    "Exercícios de videos by 'Curso em Video'"
   ]
  },
  {
   "cell_type": "code",
   "execution_count": 17,
   "id": "16394cd3",
   "metadata": {},
   "outputs": [
    {
     "name": "stdout",
     "output_type": "stream",
     "text": [
      "=========================================== Lojas Python ===========================================\n",
      "Qual o valor total da compra? R$120\n",
      "FORMA DE PAGAMENTO\n",
      "[1] à vista: dinheiro/cheque\n",
      "[2] à vista: cartão débito/crédito\n",
      "[3] 2x no cartão de crédito preço normal\n",
      "[4] 3x ou mais no cartão de crédito\n",
      "Escolha a forma de pagamento: 4\n",
      "Quantas parcelas: 3\n",
      "O valor final ficou em 3 de R$48.00.\n"
     ]
    }
   ],
   "source": [
    "print('{:=^100}'.format(' Lojas Python '))\n",
    "\n",
    "preco = float(input('Qual o valor total da compra? R$'))\n",
    "print('''FORMA DE PAGAMENTO\n",
    "[1] à vista: dinheiro/cheque\n",
    "[2] à vista: cartão débito/crédito\n",
    "[3] 2x no cartão de crédito preço normal\n",
    "[4] 3x ou mais no cartão de crédito''')\n",
    "\n",
    "opcao = int(input('Escolha a forma de pagamento: '))\n",
    "\n",
    "if opcao == 1:\n",
    "    preco *= 0.9\n",
    "    print('O valor final ficou em R${:.2f}.'.format(preco))\n",
    "elif opcao == 2:\n",
    "    preco *= 0.95\n",
    "    print('O valor final ficou em R${:.2f}.'.format(preco))\n",
    "elif opcao == 3:\n",
    "    print('O valor final ficou em R${:.2f}.'.format(preco))\n",
    "elif opcao == 4:\n",
    "    preco *= 1.2\n",
    "    parcela = int(input('Quantas parcelas: '))\n",
    "    total = preco / parcela\n",
    "    print('O valor final ficou em {} de R${:.2f}.'.format(parcela, total))\n",
    "else:\n",
    "    print('Esta opção não existe!')\n"
   ]
  }
 ],
 "metadata": {
  "kernelspec": {
   "display_name": "Python 3 (ipykernel)",
   "language": "python",
   "name": "python3"
  },
  "language_info": {
   "codemirror_mode": {
    "name": "ipython",
    "version": 3
   },
   "file_extension": ".py",
   "mimetype": "text/x-python",
   "name": "python",
   "nbconvert_exporter": "python",
   "pygments_lexer": "ipython3",
   "version": "3.9.12"
  }
 },
 "nbformat": 4,
 "nbformat_minor": 5
}
