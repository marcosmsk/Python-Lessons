{
 "cells": [
  {
   "cell_type": "markdown",
   "id": "bbf82e7d",
   "metadata": {},
   "source": [
    "### Ex-010: Analisador e modificador de Textos\n",
    "\n",
    "Faça um programa que analisa e modifica o seu texto\n",
    "\n",
    "Exercícios de videos by 'Curso em Video'"
   ]
  },
  {
   "cell_type": "code",
   "execution_count": 13,
   "id": "6aa63e3c",
   "metadata": {},
   "outputs": [
    {
     "name": "stdout",
     "output_type": "stream",
     "text": [
      "Digite o nome completo: areaf adsf \n",
      "Seu nome em letra maiúscula: AREAF ADSF\n",
      "Seu nome em letra minúscula: areaf adsf\n",
      "Seu nome tem 9 caracteres\n",
      "Seu primeiro nome tem 5 letras.\n"
     ]
    }
   ],
   "source": [
    "texto = str(input('Digite o nome completo: ')).strip()\n",
    "print('Seu nome em letra maiúscula: {}'.format(texto.upper()))\n",
    "print('Seu nome em letra minúscula: {}'.format(texto.lower()))\n",
    "print('Seu nome tem {} caracteres'.format(len(texto)-texto.count(' ')))\n",
    "print('Seu primeiro nome tem {} letras.'.format(texto.find(' ')))"
   ]
  }
 ],
 "metadata": {
  "kernelspec": {
   "display_name": "Python 3 (ipykernel)",
   "language": "python",
   "name": "python3"
  },
  "language_info": {
   "codemirror_mode": {
    "name": "ipython",
    "version": 3
   },
   "file_extension": ".py",
   "mimetype": "text/x-python",
   "name": "python",
   "nbconvert_exporter": "python",
   "pygments_lexer": "ipython3",
   "version": "3.9.12"
  }
 },
 "nbformat": 4,
 "nbformat_minor": 5
}
