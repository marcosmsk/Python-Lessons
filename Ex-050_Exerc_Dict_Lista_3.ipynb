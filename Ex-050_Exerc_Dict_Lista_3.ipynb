{
 "cells": [
  {
   "cell_type": "markdown",
   "id": "b028c421",
   "metadata": {},
   "source": [
    "### Ex-050: DICIONÁRIOS - Exercício\n",
    "\n",
    "Crie um programa que gerencie o aproveitamento de um jogador de futebol. O programa vai ler o nome do jogador e quantas partidas ele jogou. Depois vai ler a quantidade de gols feitos em cada partida. No final, tudo isso será guardado num dicionário incluindo o total de gols feitos durante o campeonato.\n",
    "\n",
    "Exercícios de videos by 'Curso em Video'"
   ]
  },
  {
   "cell_type": "code",
   "execution_count": 71,
   "id": "5252025f",
   "metadata": {},
   "outputs": [
    {
     "name": "stdout",
     "output_type": "stream",
     "text": [
      "Nome do Jogador: Kaka\n",
      "Quantas partidas o Kaka jogou? 3\n",
      "Quantos gols na partida 0: 1\n",
      "Quantos gols na partida 1: 0\n",
      "Quantos gols na partida 2: 2\n",
      "Quer continuar? [S/N] s\n",
      "Nome do Jogador: Ronaldo\n",
      "Quantas partidas o Ronaldo jogou? 4\n",
      "Quantos gols na partida 0: 3\n",
      "Quantos gols na partida 1: 1\n",
      "Quantos gols na partida 2: 2\n",
      "Quantos gols na partida 3: 1\n",
      "Quer continuar? [S/N] s\n",
      "Nome do Jogador: Romario\n",
      "Quantas partidas o Romario jogou? 2\n",
      "Quantos gols na partida 0: 2\n",
      "Quantos gols na partida 1: 3\n",
      "Quer continuar? [S/N] h\n",
      "ERRO! Digite apenas S ou N para continuar...\n",
      "Quer continuar? [S/N] n\n",
      "\n",
      "-=-=-=-=-=-=-=-=-=-=-=-=-=-=-=-=-=-=-=-=-=-=-=-=-=-=-=-=-=-=-=-=-=-=-=\n",
      "[{'nome': 'Kaka', 'partidas': 3, 'gols': [1, 0, 2], 'total_gols': 3}, {'nome': 'Ronaldo', 'partidas': 4, 'gols': [3, 1, 2, 1], 'total_gols': 7}, {'nome': 'Romario', 'partidas': 2, 'gols': [2, 3], 'total_gols': 5}]\n",
      "\n",
      "-=-=-=-=-=-=-=-=-=-=-=-=-=-=-=-=-=-=-=-=-=-=-=-=-=-=-=-=-=-=-=-=-=-=-=\n",
      "Nº  Nome           Gols      Total\n",
      "Nº   Nome           Partidas                Gols         Total\n",
      "0    Kaka              3                 [1, 0, 2]         3                 \n",
      "1    Ronaldo           4                 [3, 1, 2, 1]      7                 \n",
      "2    Romario           2                 [2, 3]            5                 \n"
     ]
    }
   ],
   "source": [
    "jogador = dict()\n",
    "lista = list()\n",
    "\n",
    "while True:\n",
    "    c = 0\n",
    "    jogador['nome'] = str(input('Nome do Jogador: '))\n",
    "    jogador['partidas'] = int(input(f'Quantas partidas o {jogador[\"nome\"]} jogou? '))\n",
    "    jogador['gols'] = []\n",
    "    for c in range(0, jogador['partidas']):\n",
    "        gols = int(input(f'Quantos gols na partida {c}: '))\n",
    "        jogador['gols'].append(gols)\n",
    "        c += 1\n",
    "    jogador['total_gols'] = sum(jogador['gols'])\n",
    "    lista.append(jogador.copy())\n",
    "    jogador.clear()\n",
    "    opcao = str(input('Quer continuar? [S/N] ')).strip().upper()[0]\n",
    "    while opcao not in 'SN':\n",
    "        print('ERRO! Digite apenas S ou N para continuar...')\n",
    "        opcao = str(input('Quer continuar? [S/N] ')).strip().upper()[0]\n",
    "    if opcao == 'N':\n",
    "        break\n",
    "    \n",
    "print()\n",
    "#1 Forma 01 de imprimir o resultado\n",
    "print('-=' * 35)\n",
    "print(lista)\n",
    "print()\n",
    "print('-=' * 35)\n",
    "print(f'{\"Nº\":<5}{\"Nome\":<15}{\"Partidas\":<24}{\"Gols\":<13}{\"Total\":^5}')\n",
    "#i = indice da lista: 0, 1, 2...\n",
    "#v = valor que está dentro de cada indice (no caso, cada dicionário): {'nome': 'Kaka', 'partidas': 3, 'gols': [1, 0, 2], 'total_gols': 3}\n",
    "#d = conteúdo (valor) de cada dicionário: Kaka, 3, [1,0,2], 3\n",
    "for i, v in enumerate(lista):\n",
    "    print(f'{i:<5}', end='')    \n",
    "    for d in v.values():\n",
    "        print(f'{str(d):<18}',end='')\n",
    "    print()"
   ]
  },
  {
   "cell_type": "code",
   "execution_count": 74,
   "id": "e71e0c0c",
   "metadata": {},
   "outputs": [
    {
     "name": "stdout",
     "output_type": "stream",
     "text": [
      "5\n"
     ]
    }
   ],
   "source": [
    "print(d)\n",
    "        \n"
   ]
  }
 ],
 "metadata": {
  "kernelspec": {
   "display_name": "Python 3 (ipykernel)",
   "language": "python",
   "name": "python3"
  },
  "language_info": {
   "codemirror_mode": {
    "name": "ipython",
    "version": 3
   },
   "file_extension": ".py",
   "mimetype": "text/x-python",
   "name": "python",
   "nbconvert_exporter": "python",
   "pygments_lexer": "ipython3",
   "version": "3.9.12"
  }
 },
 "nbformat": 4,
 "nbformat_minor": 5
}
