{
 "cells": [
  {
   "cell_type": "markdown",
   "id": "b028c421",
   "metadata": {},
   "source": [
    "### Ex-024: Introdução do While\n",
    "\n",
    "Elabore um programa que seja capaz limitar a digitação do usuário ao informar o sexo em apenas M ou F\n",
    "\n",
    "Exercícios de videos by 'Curso em Video'"
   ]
  },
  {
   "cell_type": "code",
   "execution_count": 4,
   "id": "5eebff07",
   "metadata": {},
   "outputs": [
    {
     "name": "stdout",
     "output_type": "stream",
     "text": [
      "Informe o seu sexo [M/F]: asdf\n",
      "Informação inválida. Digite novamente: mar\n",
      "M\n"
     ]
    }
   ],
   "source": [
    "sexo = str(input('Informe o seu sexo [M/F]: ')).strip().upper()[0]\n",
    "while sexo not in 'MmFf':\n",
    "    sexo = str(input('Informação inválida. Digite novamente: ')).strip().upper()[0]\n",
    "\n",
    "print(sexo)"
   ]
  }
 ],
 "metadata": {
  "kernelspec": {
   "display_name": "Python 3 (ipykernel)",
   "language": "python",
   "name": "python3"
  },
  "language_info": {
   "codemirror_mode": {
    "name": "ipython",
    "version": 3
   },
   "file_extension": ".py",
   "mimetype": "text/x-python",
   "name": "python",
   "nbconvert_exporter": "python",
   "pygments_lexer": "ipython3",
   "version": "3.9.12"
  }
 },
 "nbformat": 4,
 "nbformat_minor": 5
}
