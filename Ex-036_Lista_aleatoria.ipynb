{
 "cells": [
  {
   "cell_type": "markdown",
   "id": "b028c421",
   "metadata": {},
   "source": [
    "### Ex-036: Lista aleatória em TUPLAS\n",
    "\n",
    "Crie um programa que vai gerar cinco números aleatórios e colocar em uma tupla. Depois disso, mostre a listagem de números gerados e também indique o menor e o maior valor que estiver na tupla.\n",
    "\n",
    "Exercícios de videos by 'Curso em Video'"
   ]
  },
  {
   "cell_type": "code",
   "execution_count": 1,
   "id": "9660e1b6",
   "metadata": {},
   "outputs": [
    {
     "name": "stdout",
     "output_type": "stream",
     "text": [
      "('zero', 'um', 'dois', 'três', 'quatro')\n",
      "('treze', 'quatorze', 'quinzedezesseis', 'dezessete', 'dezoito')\n",
      "['cinco', 'dez', 'dezessete', 'dezoito', 'dois', 'doze', 'nove', 'oito', 'onze', 'quatorze', 'quatro', 'quinzedezesseis', 'seis', 'sete', 'treze', 'três', 'um', 'zero']\n",
      "posição 9ª\n"
     ]
    }
   ],
   "source": [
    "from random import randint\n",
    "\n",
    "numeros = (randint(10, 20), randint(10, 20), randint(10, 20), randint(10, 20))\n",
    "print(f'Os numeros sorteados foram:')\n",
    "for n in numeros:\n",
    "    print(f'{n} ', end='')\n",
    "print(f'\\nO maior valor sorteado foi {max(numeros)} e o menor foi {min(numeros)}')\n",
    "\n",
    "#OBS: diferente de print(numeros[1])\n",
    "print('\\n')\n",
    "print(numeros[1])"
   ]
  }
 ],
 "metadata": {
  "kernelspec": {
   "display_name": "Python 3 (ipykernel)",
   "language": "python",
   "name": "python3"
  },
  "language_info": {
   "codemirror_mode": {
    "name": "ipython",
    "version": 3
   },
   "file_extension": ".py",
   "mimetype": "text/x-python",
   "name": "python",
   "nbconvert_exporter": "python",
   "pygments_lexer": "ipython3",
   "version": "3.9.12"
  }
 },
 "nbformat": 4,
 "nbformat_minor": 5
}
