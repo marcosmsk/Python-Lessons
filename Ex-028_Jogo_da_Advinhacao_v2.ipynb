{
 "cells": [
  {
   "cell_type": "markdown",
   "id": "b028c421",
   "metadata": {},
   "source": [
    "### Ex-028: Jogo da Adivinhacao - v02\n",
    "\n",
    "Elabore um jogo da adivinhação em que o usuário deverá adivinhar o numero que o PC gravou. O PC deverá dar dicas se o número chutado pelo jogador é maior ou menor que o número escolhido pelo PC.\n",
    "\n",
    "Exercícios de videos by 'Curso em Video'"
   ]
  },
  {
   "cell_type": "code",
   "execution_count": 13,
   "id": "5eebff07",
   "metadata": {},
   "outputs": [
    {
     "name": "stdout",
     "output_type": "stream",
     "text": [
      "-=--=--=--=--=--=--=--=--=--=--=--=--=--=--=--=--=--=--=--=-\n",
      "Tente adivinhar o número que o PC gravou [0 a 10]: \n",
      "5\n",
      "Qual o seu palpite: 1\n",
      "Mais...\n",
      "Qual o seu palpite: 5\n",
      "Parabéns! Voce acertou em 2 tentativas!\n"
     ]
    }
   ],
   "source": [
    "from random import randint\n",
    "computador = randint(0,10)\n",
    "\n",
    "print('-=-'*20)\n",
    "print('Tente adivinhar o número que o PC gravou [0 a 10]!!!')\n",
    "#jogador = int(input('Tente adivinhar o número que o PC gravou [0 a 10]: '))\n",
    "acertou = False\n",
    "print(computador)\n",
    "palpite = 0\n",
    "while not acertou:\n",
    "    jogador = int(input('Qual o seu palpite: '))\n",
    "    palpite += 1\n",
    "    if jogador == computador:\n",
    "        acertou = True\n",
    "        if palpite <= 5:\n",
    "            print('Parabéns! Voce acertou em {} tentativas!'.format(palpite))\n",
    "        else:\n",
    "            print('Xiiii... Parece que você não é muito bom nos chutes! xD. Acertou após {} tentativas!'.format(palpite))\n",
    "    else:\n",
    "        if jogador < computador:\n",
    "            print('Mais...')\n",
    "        else:#elif jogador > computador:\n",
    "            print('Menos...')"
   ]
  }
 ],
 "metadata": {
  "kernelspec": {
   "display_name": "Python 3 (ipykernel)",
   "language": "python",
   "name": "python3"
  },
  "language_info": {
   "codemirror_mode": {
    "name": "ipython",
    "version": 3
   },
   "file_extension": ".py",
   "mimetype": "text/x-python",
   "name": "python",
   "nbconvert_exporter": "python",
   "pygments_lexer": "ipython3",
   "version": "3.9.12"
  }
 },
 "nbformat": 4,
 "nbformat_minor": 5
}
