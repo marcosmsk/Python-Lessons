{
 "cells": [
  {
   "cell_type": "markdown",
   "id": "b028c421",
   "metadata": {},
   "source": [
    "### Ex-032: While - Exercício\n",
    "\n",
    "Elabore um programa que seja capaz de ler vários números inteiros pelo teclado. No final da execução, mostre a média entre todos os valores e qual foi o maior e o menor valor lido.\n",
    "O programa deve perguntar ao usuário se ele quer ou não continuar digitando os valores.\n",
    "\n",
    "Exercícios de videos by 'Curso em Video'"
   ]
  },
  {
   "cell_type": "code",
   "execution_count": 12,
   "id": "b22585f5",
   "metadata": {},
   "outputs": [
    {
     "name": "stdout",
     "output_type": "stream",
     "text": [
      "========== Exercício de While ==========\n",
      "Digite um valor: 5\n",
      "Você deseja continuar? [S/N]: s\n",
      "Digite um valor: 1\n",
      "Você deseja continuar? [S/N]: s\n",
      "Digite um valor: 9\n",
      "Você deseja continuar? [S/N]: s\n",
      "Digite um valor: 8\n",
      "Você deseja continuar? [S/N]: s\n",
      "Digite um valor: 10\n",
      "Você deseja continuar? [S/N]: n\n",
      "A média de todos os valores digitados é 6.6.\n",
      "O maior valor digitado foi 10.\n",
      "O menor valor digitado foi 1.\n",
      "FIM!\n"
     ]
    }
   ],
   "source": [
    "print('========== Exercício de While ==========')\n",
    "\n",
    "resp = 'S'\n",
    "soma = 0\n",
    "media = 0\n",
    "cont = 0\n",
    "maior = 0\n",
    "menor = n\n",
    "while resp in 'Ss':\n",
    "    n = int(input('Digite um valor: '))\n",
    "    soma += n\n",
    "    cont += 1\n",
    "    if cont == 1:\n",
    "        maior = menor = n\n",
    "    else:\n",
    "        if n > maior:\n",
    "        maior = n\n",
    "        if n < menor:\n",
    "        menor = n\n",
    "    resp = str(input('Você deseja continuar? [S/N]: ')).strip().upper()\n",
    "media = soma / cont\n",
    "\n",
    "print('A média de todos os valores digitados é {}.'.format(media))\n",
    "print('O maior valor digitado foi {}.'.format(maior))\n",
    "print('O menor valor digitado foi {}.'.format(menor))\n",
    "print('FIM!')"
   ]
  }
 ],
 "metadata": {
  "kernelspec": {
   "display_name": "Python 3 (ipykernel)",
   "language": "python",
   "name": "python3"
  },
  "language_info": {
   "codemirror_mode": {
    "name": "ipython",
    "version": 3
   },
   "file_extension": ".py",
   "mimetype": "text/x-python",
   "name": "python",
   "nbconvert_exporter": "python",
   "pygments_lexer": "ipython3",
   "version": "3.9.12"
  }
 },
 "nbformat": 4,
 "nbformat_minor": 5
}
