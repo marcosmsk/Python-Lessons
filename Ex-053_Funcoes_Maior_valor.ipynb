{
 "cells": [
  {
   "cell_type": "markdown",
   "id": "2f6556bd",
   "metadata": {},
   "source": [
    "### Ex-053: Funções - Contador - Prog. Aritmética\n",
    "\n",
    "Faça um programa que tenha uma função chamada maior() que receberá vários parâmetros com valores inteiros. Seu programa tem que analisar todos os valores e dizer qual deles é o maior.\n",
    "\n",
    "Exercícios de videos by 'Curso em Video'"
   ]
  },
  {
   "cell_type": "code",
   "execution_count": 12,
   "id": "5d36c391",
   "metadata": {},
   "outputs": [
    {
     "name": "stdout",
     "output_type": "stream",
     "text": [
      "~~~~~~~~~~~~~~~~~~~~~~~~~~~~~~~~~~~~~~~~~~~~~~~~~~\n",
      "Foram apresentado(s) o(s) seguinte(s) valor(es):\n",
      " 1  5  8  9  0 \n",
      "O maior valor é: 9\n",
      "~~~~~~~~~~~~~~~~~~~~~~~~~~~~~~~~~~~~~~~~~~~~~~~~~~\n",
      "Foram apresentado(s) o(s) seguinte(s) valor(es):\n",
      " 6  3 \n",
      "O maior valor é: 6\n",
      "~~~~~~~~~~~~~~~~~~~~~~~~~~~~~~~~~~~~~~~~~~~~~~~~~~\n",
      "Foram apresentado(s) o(s) seguinte(s) valor(es):\n",
      " 2 \n",
      "O maior valor é: 2\n",
      "~~~~~~~~~~~~~~~~~~~~~~~~~~~~~~~~~~~~~~~~~~~~~~~~~~\n",
      "Foram apresentado(s) o(s) seguinte(s) valor(es):\n",
      "\n",
      "O maior valor é: 0\n",
      "\n",
      "FIM do programa!\n"
     ]
    }
   ],
   "source": [
    "from time import sleep\n",
    "\n",
    "def maior(*num):\n",
    "    cont = maior = 0\n",
    "    print('~' * 50)\n",
    "    print(f'Foram apresentado(s) o(s) seguinte(s) valor(es):')\n",
    "    for valor in num:\n",
    "        print(f' {valor}', end=' ')\n",
    "        if cont == 0:\n",
    "            maior = valor\n",
    "        else:\n",
    "            if valor > maior:\n",
    "                maior = valor\n",
    "        cont += 1\n",
    "    print(f'\\nO maior valor é: {maior}')\n",
    "        \n",
    "# Programa Principal\n",
    "maior(1, 5, 8, 9, 0)\n",
    "maior(6, 3)\n",
    "maior(2)\n",
    "maior()\n",
    "\n",
    "print('\\nFIM do programa!')    "
   ]
  }
 ],
 "metadata": {
  "kernelspec": {
   "display_name": "Python 3 (ipykernel)",
   "language": "python",
   "name": "python3"
  },
  "language_info": {
   "codemirror_mode": {
    "name": "ipython",
    "version": 3
   },
   "file_extension": ".py",
   "mimetype": "text/x-python",
   "name": "python",
   "nbconvert_exporter": "python",
   "pygments_lexer": "ipython3",
   "version": "3.9.12"
  }
 },
 "nbformat": 4,
 "nbformat_minor": 5
}
