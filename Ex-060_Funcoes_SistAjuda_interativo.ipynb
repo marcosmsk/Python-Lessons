{
 "cells": [
  {
   "cell_type": "markdown",
   "id": "2f6556bd",
   "metadata": {},
   "source": [
    "### Ex-060: Funções - Exercício\n",
    "\n",
    "##### Sistema Interativo de Ajuda - PyHelp\n",
    "\n",
    "Faça um mini-sistema que utilize o Interactive Help do Python. O usuário vai digitar o comando e o manual vai aparecer. Quando o usuário digitar a palavra 'FIM', o programa se encerrará. OBS: usar cores.\n",
    "\n",
    "Exercícios de videos by 'Curso em Video'"
   ]
  },
  {
   "cell_type": "code",
   "execution_count": 2,
   "id": "f2363a9d",
   "metadata": {},
   "outputs": [
    {
     "name": "stdout",
     "output_type": "stream",
     "text": [
      "\u001b[0;30;42m---------------------------\n",
      " SISTEMA DE AJUDA PyHELP\n",
      "---------------------------\n",
      "\u001b[mFunção ou Biblioteca > len\n",
      "\u001b[0;30;44m---------------------------------------\n",
      " Acessando o manual do comando \"len\"\n",
      "---------------------------------------\n",
      "\u001b[m\u001b[;7mHelp on built-in function len in module builtins:\n",
      "\n",
      "len(obj, /)\n",
      "    Return the number of items in a container.\n",
      "\n",
      "\u001b[m\u001b[0;30;42m---------------------------\n",
      " SISTEMA DE AJUDA PyHELP\n",
      "---------------------------\n",
      "\u001b[mFunção ou Biblioteca > fim\n",
      "\u001b[0;30;41m-------------\n",
      " ATÉ LOGO!\n",
      "-------------\n",
      "\u001b[m"
     ]
    }
   ],
   "source": [
    "from time import sleep\n",
    "\n",
    "\n",
    "c = ('\\033[m',           # 0 - sem cores\n",
    "     '\\033[0;30;41m',    # 1 - vermelho\n",
    "     '\\033[0;30;42m',    # 2 - verde\n",
    "     '\\033[0;30;43m',    # 3 - amarelo\n",
    "     '\\033[0;30;44m',    # 4 - azul\n",
    "     '\\033[0;30;45m',    # 5 - roxo\n",
    "     '\\033[;7m'          # 6 - 'branco' - inverte a cor\n",
    "    )\n",
    "\n",
    "\n",
    "def ajuda(com):\n",
    "    titulo(f'Acessando o manual do comando \"{com}\"', 4)\n",
    "    print(c[6], end='')   # define a cor\n",
    "    help(com)\n",
    "    print(c[0], end='')   # encerra a cor\n",
    "    sleep(1)\n",
    "\n",
    "\n",
    "def titulo(msg, cor=0):\n",
    "    tam = len(msg) + 4\n",
    "    print(c[cor], end='')\n",
    "    print('-' * tam)\n",
    "    print(f' {msg}')\n",
    "    print('-' * tam)\n",
    "    print(c[0], end='')\n",
    "    sleep(1)\n",
    "\n",
    "\n",
    "# programa principal\n",
    "comando = ''\n",
    "while True:\n",
    "    titulo('SISTEMA DE AJUDA PyHELP', 2)\n",
    "    comando = str(input(\"Função ou Biblioteca > \"))\n",
    "    if comando.upper() == 'FIM':\n",
    "        break\n",
    "    else:\n",
    "        ajuda(comando)\n",
    "titulo('ATÉ LOGO!', 1)"
   ]
  }
 ],
 "metadata": {
  "kernelspec": {
   "display_name": "Python 3 (ipykernel)",
   "language": "python",
   "name": "python3"
  },
  "language_info": {
   "codemirror_mode": {
    "name": "ipython",
    "version": 3
   },
   "file_extension": ".py",
   "mimetype": "text/x-python",
   "name": "python",
   "nbconvert_exporter": "python",
   "pygments_lexer": "ipython3",
   "version": "3.9.12"
  }
 },
 "nbformat": 4,
 "nbformat_minor": 5
}
