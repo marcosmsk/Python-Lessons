{
 "cells": [
  {
   "cell_type": "markdown",
   "id": "1fd4d4fc",
   "metadata": {},
   "source": [
    "### Ex-005: Aluguel de Carros\n",
    "\n",
    "Faça um programa que, ao perguntar a quantidade de Km percorrido e a quantidade de dias do aluguel,  seja capaz de calcular o preço a pagar, sabendo que o carro alugado custa R$ 60,00 por dia e R$ 0,15 por km rodado\n",
    "\n",
    "Exercícios de videos by 'Curso em Video'"
   ]
  },
  {
   "cell_type": "code",
   "execution_count": 8,
   "id": "c36d6b5b",
   "metadata": {},
   "outputs": [
    {
     "name": "stdout",
     "output_type": "stream",
     "text": [
      "Qual a quantidade de Km percorrido pelo veículo alugado? 1000\n",
      "Quanto dias de locação? 5\n",
      "O valor do carro alugado considerando 1000.0Km percorridos durante 5 dia(s) é de R$450.00\n"
     ]
    }
   ],
   "source": [
    "km_percorrido = float(input('Qual a quantidade de Km percorrido pelo veículo alugado? '))\n",
    "dias_aluguel = int(input('Quanto dias de locação? '))\n",
    "total = (dias_aluguel * 60) + (km_percorrido * 0.15)\n",
    "print('O valor do carro alugado considerando {}Km percorridos durante {} dia(s) é de R${:.2f}'.format(km_percorrido, dias_aluguel, total))"
   ]
  }
 ],
 "metadata": {
  "kernelspec": {
   "display_name": "Python 3 (ipykernel)",
   "language": "python",
   "name": "python3"
  },
  "language_info": {
   "codemirror_mode": {
    "name": "ipython",
    "version": 3
   },
   "file_extension": ".py",
   "mimetype": "text/x-python",
   "name": "python",
   "nbconvert_exporter": "python",
   "pygments_lexer": "ipython3",
   "version": "3.9.12"
  }
 },
 "nbformat": 4,
 "nbformat_minor": 5
}
