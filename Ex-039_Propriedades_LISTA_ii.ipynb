{
 "cells": [
  {
   "cell_type": "markdown",
   "id": "b028c421",
   "metadata": {},
   "source": [
    "### Ex-039: Propriedades da LISTA\n",
    "\n",
    "Exercícios de videos by 'Curso em Video'"
   ]
  },
  {
   "cell_type": "markdown",
   "id": "94131992",
   "metadata": {},
   "source": [
    "##### 1\n",
    "\n",
    " LISTA (propriedades)\n",
    " \n",
    " Crie um programa que vai ler vários números e colocar em uma lista. Depois disso, mostre:\n",
    " \n",
    " a) Quantos números foram digitados\n",
    " \n",
    " b) A lista de valores ordenada de forma decrescente\n",
    " \n",
    " c) Se o valor 5 foi digitado e está ou não na lista."
   ]
  },
  {
   "cell_type": "code",
   "execution_count": null,
   "id": "b804dfe4",
   "metadata": {},
   "outputs": [],
   "source": [
    "lista = []\n",
    "\n",
    "while True:\n",
    "    num = int(input('Digite um valor: '))\n",
    "    lista.append(num)\n",
    "    decisao = str(input('Quer continuar [S/N]: ')).strip().upper()\n",
    "    if decisao in 'Nn':\n",
    "        break\n",
    "# a)\n",
    "print(f'Foram digitados {len(lista)} números')\n",
    "\n",
    "# b)\n",
    "lista.sort(reverse=True)\n",
    "print(lista)\n",
    "\n",
    "# c)\n",
    "if 5 in lista:\n",
    "    print(f'O valor 5 encontra-se na lista')\n",
    "else:\n",
    "    print(f'O valor 5 não se encontra na lista')"
   ]
  }
 ],
 "metadata": {
  "kernelspec": {
   "display_name": "Python 3 (ipykernel)",
   "language": "python",
   "name": "python3"
  },
  "language_info": {
   "codemirror_mode": {
    "name": "ipython",
    "version": 3
   },
   "file_extension": ".py",
   "mimetype": "text/x-python",
   "name": "python",
   "nbconvert_exporter": "python",
   "pygments_lexer": "ipython3",
   "version": "3.9.12"
  }
 },
 "nbformat": 4,
 "nbformat_minor": 5
}
