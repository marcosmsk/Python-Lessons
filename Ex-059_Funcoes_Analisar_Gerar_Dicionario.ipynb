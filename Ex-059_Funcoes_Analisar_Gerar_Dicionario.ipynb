{
 "cells": [
  {
   "cell_type": "markdown",
   "id": "2f6556bd",
   "metadata": {},
   "source": [
    "### Ex-059: Funções - Exercício\n",
    "\n",
    "##### Analisando e Gerando Dicionários\n",
    "\n",
    "Faça um programa que tenha uma função notas() que vai receber várias notas de alunos e vai retornar um dicionário com as seguintes informações:\n",
    "\n",
    "- Qtde de notas\n",
    "- A Maior nota\n",
    "- A Menor nota\n",
    "- A média da turma\n",
    "- A situação (opcional): péssima, regular, boa\n",
    "- Add docstrings\n",
    "\n",
    "Exercícios de videos by 'Curso em Video'"
   ]
  },
  {
   "cell_type": "code",
   "execution_count": 3,
   "id": "f2363a9d",
   "metadata": {},
   "outputs": [
    {
     "name": "stdout",
     "output_type": "stream",
     "text": [
      "{'total': 4, 'maior': 8, 'menor': 5, 'media': 6.875, 'situacao': 'Regular'}\n"
     ]
    }
   ],
   "source": [
    "def notas(*n, sit=False):\n",
    "    \"\"\"\n",
    "    -> Função para analisar notas e situações de vários alunos\n",
    "    :parametro n: uma ou mais notas dos alunos (aceita várias)\n",
    "    :parametro sit: valor opcional, indicando se deve ou não adicionar a situação \n",
    "    :return: dicionário com várias informações sobre a situação da turma\n",
    "    \"\"\"\n",
    "    dados = dict()\n",
    "    dados['total'] = len(n)\n",
    "    dados['maior'] = max(n)\n",
    "    dados['menor'] = min(n)\n",
    "    dados['media'] = sum(n)/len(n)\n",
    "    if sit:\n",
    "        if dados['media'] >= 7:\n",
    "            dados['situacao'] = 'Ótima'\n",
    "        elif dados['media'] >= 5:\n",
    "            dados['situacao'] = 'Regular'\n",
    "        else:\n",
    "            dados['situacao'] = 'Péssima'\n",
    "    return dados\n",
    "    \n",
    "#Programa principal\n",
    "print(notas(5, 6.5, 8, 8, sit=True))"
   ]
  }
 ],
 "metadata": {
  "kernelspec": {
   "display_name": "Python 3 (ipykernel)",
   "language": "python",
   "name": "python3"
  },
  "language_info": {
   "codemirror_mode": {
    "name": "ipython",
    "version": 3
   },
   "file_extension": ".py",
   "mimetype": "text/x-python",
   "name": "python",
   "nbconvert_exporter": "python",
   "pygments_lexer": "ipython3",
   "version": "3.9.12"
  }
 },
 "nbformat": 4,
 "nbformat_minor": 5
}
