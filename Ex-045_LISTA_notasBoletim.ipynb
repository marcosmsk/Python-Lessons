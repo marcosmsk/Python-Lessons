{
 "cells": [
  {
   "cell_type": "markdown",
   "id": "b028c421",
   "metadata": {},
   "source": [
    "### Ex-043: MATRIZ - Introdução\n",
    "\n",
    "Exercícios de videos by 'Curso em Video'"
   ]
  },
  {
   "cell_type": "markdown",
   "id": "94131992",
   "metadata": {},
   "source": [
    "##### 1\n",
    "\n",
    "\n",
    "Crie um programa que leia nome e duas notas de vários alunos e guarde tudo em uma lista composta. No final, mostre um boletim contendo a média de cada um e permita que o usuário possa mostrar as notas de cada aluno individualmente.\n",
    "\n"
   ]
  },
  {
   "cell_type": "code",
   "execution_count": 1,
   "id": "b804dfe4",
   "metadata": {},
   "outputs": [
    {
     "name": "stdout",
     "output_type": "stream",
     "text": [
      "Nome: Ana\n",
      "Nota 1: 8\n",
      "Nota 2: 6\n",
      "Deseja inserir mais dados? [S/N] s\n",
      "Nome: Pedro\n",
      "Nota 1: 7\n",
      "Nota 2: 5\n",
      "Deseja inserir mais dados? [S/N] s\n",
      "Nome: Paula\n",
      "Nota 1: 8\n",
      "Nota 2: 7\n",
      "Deseja inserir mais dados? [S/N] s\n",
      "Nome: Leandro\n",
      "Nota 1: 5\n",
      "Nota 2: 5\n",
      "Deseja inserir mais dados? [S/N] n\n",
      "<><><><><><><><><><><><><><><><><><><><>\n",
      "           Boletim dos Alunos           \n",
      "<><><><><><><><><><><><><><><><><><><><>\n",
      "Nº   Nome         Média\n",
      "0    Ana            7.0\n",
      "1    Pedro          6.0\n",
      "2    Paula          7.5\n",
      "3    Leandro        5.0\n",
      "[['Ana', [8.0, 6.0], 7.0], ['Pedro', [7.0, 5.0], 6.0], ['Paula', [8.0, 7.0], 7.5], ['Leandro', [5.0, 5.0], 5.0]]\n",
      "4\n",
      "Mostrar notas de qual aluno? (encerrar:999) 1\n",
      "Notas de Pedro são [7.0, 5.0]\n",
      "Mostrar notas de qual aluno? (encerrar:999) 0\n",
      "Notas de Ana são [8.0, 6.0]\n",
      "Mostrar notas de qual aluno? (encerrar:999) 999\n"
     ]
    }
   ],
   "source": [
    "boletim = list()\n",
    "\n",
    "while True:\n",
    "    nome = str(input('Nome: '))\n",
    "    nota1 = float(input('Nota 1: '))\n",
    "    nota2 = float(input('Nota 2: '))\n",
    "    media = (nota1 + nota2)/2\n",
    "    boletim.append([nome, [nota1, nota2], media])\n",
    "    resp = str(input('Deseja inserir mais dados? [S/N] '))\n",
    "    if resp in 'Nn':\n",
    "        break\n",
    "\n",
    "print('<>' * 20)\n",
    "print(f'{\"Boletim dos Alunos\":^40}')\n",
    "print('<>' * 20)\n",
    "print(f'{\"Nº\":<5}{\"Nome\":<10}{\"Média\":>8}')\n",
    "\n",
    "for i, obj in enumerate(boletim):\n",
    "    print(f'{i:<5}{obj[0]:<10}{obj[2]:>8}')\n",
    "\n",
    "print(boletim)\n",
    "print(len(boletim))\n",
    "\n",
    "while True:\n",
    "    aluno = int(input('Mostrar notas de qual aluno? (encerrar:999) '))\n",
    "    if aluno <= len(boletim)-1:\n",
    "        print(f'Notas de {boletim[aluno][0]} são {boletim[aluno][1]}')\n",
    "    if aluno == 999:\n",
    "        break\n",
    "\n"
   ]
  }
 ],
 "metadata": {
  "kernelspec": {
   "display_name": "Python 3 (ipykernel)",
   "language": "python",
   "name": "python3"
  },
  "language_info": {
   "codemirror_mode": {
    "name": "ipython",
    "version": 3
   },
   "file_extension": ".py",
   "mimetype": "text/x-python",
   "name": "python",
   "nbconvert_exporter": "python",
   "pygments_lexer": "ipython3",
   "version": "3.9.12"
  }
 },
 "nbformat": 4,
 "nbformat_minor": 5
}
