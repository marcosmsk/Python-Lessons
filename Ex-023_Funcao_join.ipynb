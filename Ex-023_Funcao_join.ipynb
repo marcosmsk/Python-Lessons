{
 "cells": [
  {
   "cell_type": "markdown",
   "id": "b028c421",
   "metadata": {},
   "source": [
    "### Ex-023: Função 'Join'\n",
    "\n",
    "Esta função só é possivel ser utilizada com strings e serve para juntar todas as palavras de uma LISTA"
   ]
  },
  {
   "cell_type": "code",
   "execution_count": 35,
   "id": "018297ca",
   "metadata": {},
   "outputs": [
    {
     "name": "stdout",
     "output_type": "stream",
     "text": [
      "['1', '2', '3', '4']\n",
      "1234\n"
     ]
    }
   ],
   "source": [
    "lista = ['1','2','3','4']\n",
    "print(lista)\n",
    "junto = ''.join(lista)\n",
    "print(junto)"
   ]
  }
 ],
 "metadata": {
  "kernelspec": {
   "display_name": "Python 3 (ipykernel)",
   "language": "python",
   "name": "python3"
  },
  "language_info": {
   "codemirror_mode": {
    "name": "ipython",
    "version": 3
   },
   "file_extension": ".py",
   "mimetype": "text/x-python",
   "name": "python",
   "nbconvert_exporter": "python",
   "pygments_lexer": "ipython3",
   "version": "3.9.12"
  }
 },
 "nbformat": 4,
 "nbformat_minor": 5
}
