{
 "cells": [
  {
   "cell_type": "markdown",
   "id": "b028c421",
   "metadata": {},
   "source": [
    "### Ex-047: DICIONÁRIOS - tamanho variável\n",
    "\n",
    "Crie um programa que leia NOME, ANO DE NASCIMENTO e CARTEIRA DE TRABALHO e cadastre-os em um dicionário. Caso o CTPS for diferente de zero, o dicionário deve receber tbm o ano de contratação e o salário. Acrescente a idade da aposentadoria\n",
    "\n",
    "Exercícios de videos by 'Curso em Video'"
   ]
  },
  {
   "cell_type": "code",
   "execution_count": 4,
   "id": "b804dfe4",
   "metadata": {},
   "outputs": [
    {
     "name": "stdout",
     "output_type": "stream",
     "text": [
      "Nome: Marcos\n",
      "Ano de Nascimento: 1985\n",
      "Nº do CTPS: 123\n",
      "Ano de contratação: 2010\n",
      "Salário: R$5000\n",
      "~~~~~~~~~~~~~~~~~~~~~~~~~~~~~~~~~~~~~~~~\n",
      "- nome: Marcos\n",
      "- idade: 37\n",
      "- CTPS: 123\n",
      "- contratacao: 2010\n",
      "- salário: 5000.0\n",
      "- aposentadoria: 60\n",
      "{'nome': 'Marcos', 'idade': 37, 'CTPS': 123, 'contratacao': 2010, 'salário': 5000.0, 'aposentadoria': 60}\n"
     ]
    }
   ],
   "source": [
    "from datetime import datetime\n",
    "\n",
    "dados = dict()\n",
    "dados['nome'] = str(input('Nome: '))\n",
    "nascimento = int(input('Ano de Nascimento: '))\n",
    "dados['idade'] = datetime.now().year - nascimento\n",
    "dados['CTPS'] = int(input('Nº do CTPS: '))\n",
    "if dados['CTPS'] != 0:\n",
    "    dados['contratacao'] = int(input('Ano de contratação: '))\n",
    "    dados['salário'] = float(input('Salário: R$'))\n",
    "    dados['aposentadoria'] = (dados['contratacao']+35) - nascimento\n",
    "\n",
    "#formatação\n",
    "print('~' * 30)\n",
    "for k, v in dados.items():\n",
    "    print(f'- {k}: {v}')\n",
    "\n"
   ]
  }
 ],
 "metadata": {
  "kernelspec": {
   "display_name": "Python 3 (ipykernel)",
   "language": "python",
   "name": "python3"
  },
  "language_info": {
   "codemirror_mode": {
    "name": "ipython",
    "version": 3
   },
   "file_extension": ".py",
   "mimetype": "text/x-python",
   "name": "python",
   "nbconvert_exporter": "python",
   "pygments_lexer": "ipython3",
   "version": "3.9.12"
  }
 },
 "nbformat": 4,
 "nbformat_minor": 5
}
