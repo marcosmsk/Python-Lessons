{
 "cells": [
  {
   "cell_type": "markdown",
   "id": "b028c421",
   "metadata": {},
   "source": [
    "### Ex-048: DICIONÁRIOS - Exercício\n",
    "\n",
    "Crie um programa que leia 'nome', 'sexo' e 'idade' de várias pessoas, guardando os dados de cada pessoa em um dicionário e todos os dicionários em uma lista. No final, mostre:\n",
    "\n",
    "a) Quantidade de pessoas cadastradas\n",
    "\n",
    "b) A média de idade das pessoas cadastradas\n",
    "\n",
    "c) Uma LISTA de mulheres cadastradas\n",
    "\n",
    "d) Uma LISTA com a idade acima da média.\n",
    "\n",
    "\n",
    "Exercícios de videos by 'Curso em Video'"
   ]
  },
  {
   "cell_type": "code",
   "execution_count": 41,
   "id": "5560215b",
   "metadata": {},
   "outputs": [
    {
     "name": "stdout",
     "output_type": "stream",
     "text": [
      "Nome: Marcos\n",
      "Sexo [M/F]: m\n",
      "Idade: 37\n",
      "Continuar? [S/N] s\n",
      "Nome: Ana\n",
      "Sexo [M/F]: F\n",
      "Idade: 35\n",
      "Continuar? [S/N] s\n",
      "Nome: Julia\n",
      "Sexo [M/F]: f\n",
      "Idade: 20\n",
      "Continuar? [S/N] n\n",
      "=-=-=-=-=-=-=-=-=-=-=-=-=-=-=-=-=-=-=-=-=-=-=-=-=-=-=-=-=-=-=-=-=-=-=-\n",
      "[{'nome': 'Marcos', 'sexo': 'M', 'idade': 37}, {'nome': 'Ana', 'sexo': 'F', 'idade': 35}, {'nome': 'Julia', 'sexo': 'F', 'idade': 20}]\n",
      "=-=-=-=-=-=-=-=-=-=-=-=-=-=-=-=-=-=-=-=-=-=-=-=-=-=-=-=-=-=-=-=-=-=-=-\n",
      "Ao todo a lista possui 3 pessoas cadastradas\n",
      "=-=-=-=-=-=-=-=-=-=-=-=-=-=-=-=-=-=-=-=-=-=-=-=-=-=-=-=-=-=-=-=-=-=-=-\n",
      "A média de idade das pessoas cadastradas é de 30.67 anos.\n",
      "Pessoas do sexo feminino presentes na lista:\n",
      "[Ana] [Julia]     \n",
      "nome = Marcos... sexo = M... idade = 37...     \n",
      "nome = Ana... sexo = F... idade = 35... \n",
      "~~~~~~~~~~~~~~~~~~~~~~~~~~~~~~~~~~~~~~~~\n",
      "programa encerrado!\n"
     ]
    }
   ],
   "source": [
    "cadastro = list()\n",
    "dados = dict()\n",
    "soma = media = 0\n",
    "\n",
    "while True:\n",
    "    dados.clear()\n",
    "    dados['nome'] = str(input('Nome: ')).strip()\n",
    "    while True:\n",
    "        dados['sexo'] = str(input('Sexo [M/F]: ')).strip().upper()[0]\n",
    "        if dados['sexo'] in 'MF':\n",
    "            break\n",
    "        print('ERRO! Por favor, digite apenas M ou F no campo \"sexo\".')\n",
    "    dados['idade'] = int(input('Idade: '))\n",
    "    soma += dados['idade']\n",
    "    cadastro.append(dados.copy())\n",
    "    while True:\n",
    "        resp = str(input('Continuar? [S/N] ')).strip().upper()[0]\n",
    "        if resp in 'SN':\n",
    "            break\n",
    "        print('ERRO! Por favor, digite apenas S ou N para continuar...')\n",
    "    if resp == 'N':\n",
    "        break\n",
    "\n",
    "media = soma / len(cadastro)\n",
    "        \n",
    "print('=-' * 35)\n",
    "print(cadastro)\n",
    "\n",
    "# resp - a)\n",
    "print('=-' * 35)\n",
    "\n",
    "print(f'Ao todo a lista possui {len(cadastro)} pessoas cadastradas')\n",
    "\n",
    "#resp - b) formatação: {media:5.2f} máx 5 casas ao todo e 2 decimais\n",
    "print('=-' * 35)\n",
    "print(f'A média de idade das pessoas cadastradas é de {media:5.2f} anos.')\n",
    "\n",
    "#resp - c)\n",
    "print('Pessoas do sexo feminino presentes na lista:')\n",
    "for mulher in cadastro:\n",
    "    if mulher['sexo'] == 'F':\n",
    "        print(f'[{mulher[\"nome\"]}]', end=' ')\n",
    "        \n",
    "#resp - d)\n",
    "for pessoas in cadastro:\n",
    "    if pessoas['idade'] > media:\n",
    "        print('    ')\n",
    "        for k, v in pessoas.items():\n",
    "            print(f'{k} = {v}...', end=' ')\n",
    "\n",
    "print()\n",
    "print('~' * 40)\n",
    "print('programa encerrado!')"
   ]
  }
 ],
 "metadata": {
  "kernelspec": {
   "display_name": "Python 3 (ipykernel)",
   "language": "python",
   "name": "python3"
  },
  "language_info": {
   "codemirror_mode": {
    "name": "ipython",
    "version": 3
   },
   "file_extension": ".py",
   "mimetype": "text/x-python",
   "name": "python",
   "nbconvert_exporter": "python",
   "pygments_lexer": "ipython3",
   "version": "3.9.12"
  }
 },
 "nbformat": 4,
 "nbformat_minor": 5
}
