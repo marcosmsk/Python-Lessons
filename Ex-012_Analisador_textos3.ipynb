{
 "cells": [
  {
   "cell_type": "markdown",
   "id": "094be27d",
   "metadata": {},
   "source": [
    "### Ex-012: Analisador e modificador de Textos\n",
    "\n",
    "Faça um programa que analisa e modifica o seu texto\n",
    "\n",
    "Exercícios de videos by 'Curso em Video'"
   ]
  },
  {
   "cell_type": "code",
   "execution_count": 2,
   "id": "16394cd3",
   "metadata": {},
   "outputs": [
    {
     "name": "stdout",
     "output_type": "stream",
     "text": [
      "Digite uma frase: Marcos esta com sono\n",
      "A letra A aparece 2 vezes.\n",
      "A primeira letra A apareceu na posição 2\n",
      "A última letra A aparece na posição 11\n"
     ]
    }
   ],
   "source": [
    "frase = str(input('Digite uma frase: ')).upper().strip()\n",
    "\n",
    "#Quantas vezes aparece a letra 'A'?\n",
    "print('A letra A aparece {} vezes.'.format(frase.count('A')))\n",
    "\n",
    "#Em que posição aparece a letra 'A' pela primeira vez?\n",
    "print('A primeira letra A apareceu na posição {}'.format(frase.find('A')+1))\n",
    "\n",
    "#Em que posição aparece a letra 'A' pela última vez?\n",
    "print('A última letra A aparece na posição {}'.format(frase.rfind('A')+1))"
   ]
  }
 ],
 "metadata": {
  "kernelspec": {
   "display_name": "Python 3 (ipykernel)",
   "language": "python",
   "name": "python3"
  },
  "language_info": {
   "codemirror_mode": {
    "name": "ipython",
    "version": 3
   },
   "file_extension": ".py",
   "mimetype": "text/x-python",
   "name": "python",
   "nbconvert_exporter": "python",
   "pygments_lexer": "ipython3",
   "version": "3.9.12"
  }
 },
 "nbformat": 4,
 "nbformat_minor": 5
}
