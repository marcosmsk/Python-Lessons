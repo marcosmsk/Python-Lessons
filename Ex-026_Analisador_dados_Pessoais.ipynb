{
 "cells": [
  {
   "cell_type": "markdown",
   "id": "b028c421",
   "metadata": {},
   "source": [
    "### Ex-026: Analisador Simples de Dados Pessoais\n",
    "\n",
    "Elabore um programa que seja capaz de informar:\n",
    "(a) média de idade do grupo;\n",
    "(b) o homem mais velho;\n",
    "(c) quantas mulheres com menos de 20 anos.\n",
    "\n",
    "Exercícios de videos by 'Curso em Video'"
   ]
  },
  {
   "cell_type": "code",
   "execution_count": 15,
   "id": "e8ae6964",
   "metadata": {},
   "outputs": [
    {
     "name": "stdout",
     "output_type": "stream",
     "text": [
      "----- 1ª pessoa -----\n",
      "Nome: JOAO\n",
      "Idade: 20\n",
      "Sexo [M/F]: M\n",
      "----- 2ª pessoa -----\n",
      "Nome: PEDRO\n",
      "Idade: 60\n",
      "Sexo [M/F]: M\n",
      "----- 3ª pessoa -----\n",
      "Nome: ANA\n",
      "Idade: 10\n",
      "Sexo [M/F]: F\n",
      "----- 4ª pessoa -----\n",
      "Nome: PAULA\n",
      "Idade: 15\n",
      "Sexo [M/F]: F\n",
      "A idade média do grupo é de 35.00 anos.\n",
      "O homem mais velho do grupo tem 60 anos e se chama PEDRO.\n",
      "No grupo tem 2 mulher(es) com menos de 20 anos de idade.\n"
     ]
    }
   ],
   "source": [
    "soma = 0\n",
    "media = 0\n",
    "maisvelho = 0\n",
    "nome_maisvelho = ''\n",
    "mulheres_mais20 = 0\n",
    "for pessoa in range(1, 5):\n",
    "    print('----- {}ª pessoa -----'.format(pessoa))\n",
    "    nome = str(input('Nome: ')).strip()\n",
    "    idade = int(input('Idade: '))\n",
    "    sexo = str(input('Sexo [M/F]: ')).strip()\n",
    "    soma += idade\n",
    "    if pessoa == 1 and sexo in 'Mm':\n",
    "        maisvelho = idade\n",
    "        nome_maisvelho = nome\n",
    "    if sexo in 'Mm' and idade > maisvelho:\n",
    "        maisvelho = idade\n",
    "        nome_maisvelho = nome\n",
    "    if sexo in 'Ff' and idade < 20:\n",
    "        mulheres_mais20 += 1   \n",
    "media = soma / 3    \n",
    "print('A idade média do grupo é de {:.2f} anos.'.format(media))   \n",
    "print('O homem mais velho do grupo tem {} anos e se chama {}.'.format(maisvelho, nome_maisvelho))\n",
    "print('No grupo tem {} mulher(es) com menos de 20 anos de idade.'.format(mulheres_mais20))"
   ]
  },
  {
   "cell_type": "markdown",
   "id": "44376ba5",
   "metadata": {},
   "source": []
  },
  {
   "cell_type": "code",
   "execution_count": null,
   "id": "5f70446f",
   "metadata": {},
   "outputs": [],
   "source": []
  }
 ],
 "metadata": {
  "kernelspec": {
   "display_name": "Python 3 (ipykernel)",
   "language": "python",
   "name": "python3"
  },
  "language_info": {
   "codemirror_mode": {
    "name": "ipython",
    "version": 3
   },
   "file_extension": ".py",
   "mimetype": "text/x-python",
   "name": "python",
   "nbconvert_exporter": "python",
   "pygments_lexer": "ipython3",
   "version": "3.9.12"
  }
 },
 "nbformat": 4,
 "nbformat_minor": 5
}
