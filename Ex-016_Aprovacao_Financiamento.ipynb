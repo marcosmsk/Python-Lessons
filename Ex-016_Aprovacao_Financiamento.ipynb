{
 "cells": [
  {
   "cell_type": "markdown",
   "id": "094be27d",
   "metadata": {},
   "source": [
    "### Ex-016: Aprovação de financiamento de um imóvel\n",
    "\n",
    "Escreva um programa para aprovar o empréstimo bancário para a compra de um imóvel.\n",
    "Input de 'valor_imovel', 'salario' e 'qtd_parcela'.\n",
    "A prestação não deve exceder o valor de 30% do salário.\n",
    "\n",
    "Exercícios de videos by 'Curso em Video'"
   ]
  },
  {
   "cell_type": "code",
   "execution_count": 6,
   "id": "16394cd3",
   "metadata": {},
   "outputs": [
    {
     "name": "stdout",
     "output_type": "stream",
     "text": [
      "Qual o valor do imóvel que deseja comprar: R$100000\n",
      "Qual é o seu salario: R$10000\n",
      "Em quantas vezes deseja parcelar: 10\n",
      "Desculpe! Infelizmente não foi aprovado o seu crédito!"
     ]
    }
   ],
   "source": [
    "valor_imovel = float(input('Qual o valor do imóvel que deseja comprar: R$'))\n",
    "salario = float(input('Qual é o seu salario: R$'))\n",
    "qtd_parcela = int(input('Em quantas vezes deseja parcelar: '))\n",
    "\n",
    "vlr_parcela = valor_imovel / qtd_parcela\n",
    "\n",
    "if vlr_parcela > 0.3 * salario:\n",
    "    print('Desculpe! Infelizmente não foi aprovado o seu crédito!', end='')\n",
    "else:\n",
    "    print('Parabéns! Financiamento aprovado! O valor da prestação ficou em R$ {:.2f}.'.format(vlr_parcela))"
   ]
  }
 ],
 "metadata": {
  "kernelspec": {
   "display_name": "Python 3 (ipykernel)",
   "language": "python",
   "name": "python3"
  },
  "language_info": {
   "codemirror_mode": {
    "name": "ipython",
    "version": 3
   },
   "file_extension": ".py",
   "mimetype": "text/x-python",
   "name": "python",
   "nbconvert_exporter": "python",
   "pygments_lexer": "ipython3",
   "version": "3.9.12"
  }
 },
 "nbformat": 4,
 "nbformat_minor": 5
}
