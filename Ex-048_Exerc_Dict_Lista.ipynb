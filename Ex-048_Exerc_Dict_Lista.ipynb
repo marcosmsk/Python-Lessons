{
 "cells": [
  {
   "cell_type": "markdown",
   "id": "b028c421",
   "metadata": {},
   "source": [
    "### Ex-047: DICIONÁRIOS - Exercício\n",
    "\n",
    "Crie um programa que gerencie o aproveitamento de um jogador de futebol. O programa vai ler o nome do jogador e quantas partidas ele jogou. Depois vai ler a quantidade de gols feitos em cada partida. No final, tudo isso será guardado num dicionário incluindo o total de gols feitos durante o campeonato.\n",
    "\n",
    "Exercícios de videos by 'Curso em Video'"
   ]
  },
  {
   "cell_type": "code",
   "execution_count": 2,
   "id": "5252025f",
   "metadata": {},
   "outputs": [
    {
     "name": "stdout",
     "output_type": "stream",
     "text": [
      "Nome do Jogador: Ronadlo\n",
      "Quantas partidas o Ronadlo jogou? 4\n",
      "Quantos gols na partida 0: 2\n",
      "Quantos gols na partida 1: 1\n",
      "Quantos gols na partida 2: 3\n",
      "Quantos gols na partida 3: 0\n",
      "::::::::::::::::::::::::::::::::::::::::::::::::::::::::::::::::::::::\n",
      "{'nome': 'Ronadlo', 'partidas': 4, 'gols': [2, 1, 3, 0], 'total_gols': 6}\n",
      "::::::::::::::::::::::::::::::::::::::::::::::::::::::::::::::::::::::\n",
      "O jogador Ronadlo jogou 4 partidas e fez ao todo 6 gols: [2, 1, 3, 0]\n",
      "::::::::::::::::::::::::::::::::::::::::::::::::::::::::::::::::::::::\n",
      "- A chave nome tem o valor Ronadlo\n",
      "- A chave partidas tem o valor 4\n",
      "- A chave gols tem o valor [2, 1, 3, 0]\n",
      "- A chave total_gols tem o valor 6\n",
      "::::::::::::::::::::::::::::::::::::::::::::::::::::::::::::::::::::::\n",
      "O jogadorRonadlo fez 4 jogos:\n",
      "Na partida 0, fez 2 gols.\n",
      "Na partida 1, fez 1 gols.\n",
      "Na partida 2, fez 3 gols.\n",
      "Na partida 3, fez 0 gols.\n",
      "Ao todo Ronadlo fez 6 gols no campeonato.\n",
      "::::::::::::::::::::::::::::::::::::::::::::::::::::::::::::::::::::::\n",
      "O jogadorRonadlo fez 4 jogos:\n",
      "- Na partida 0, fez 2 gols.\n",
      "- Na partida 1, fez 1 gols.\n",
      "- Na partida 2, fez 3 gols.\n",
      "- Na partida 3, fez 0 gols.\n"
     ]
    }
   ],
   "source": [
    "jogador = dict()\n",
    "\n",
    "jogador['nome'] = str(input('Nome do Jogador: '))\n",
    "jogador['partidas'] = int(input(f'Quantas partidas o {jogador[\"nome\"]} jogou? '))\n",
    "\n",
    "c = 0\n",
    "jogador['gols'] = []\n",
    "\n",
    "for c in range(0, jogador['partidas']):\n",
    "    gols = int(input(f'Quantos gols na partida {c}: '))\n",
    "    jogador['gols'].append(gols)\n",
    "    c += 1\n",
    "jogador['total_gols'] = sum(jogador['gols'])\n",
    "\n",
    "#1 Forma 01 de imprimir o resultado\n",
    "print('::' * 35)\n",
    "print(jogador)\n",
    "\n",
    "#2 Forma 02 de imprimir o resultado\n",
    "print('::' * 35)\n",
    "print(f'O jogador {jogador[\"nome\"]} jogou {jogador[\"partidas\"]} partidas e fez ao todo {jogador[\"total_gols\"]} gols: {jogador[\"gols\"]}')\n",
    "\n",
    "#3 Forma 03 de imprimir o resultado\n",
    "print('::' * 35)\n",
    "for k, v in jogador.items():\n",
    "    print(f'- A chave {k} tem o valor {v}')\n",
    "\n",
    "#4 Forma 04 de imprimir o resultado\n",
    "print('::' * 35)\n",
    "print(f'O jogador{jogador[\"nome\"]} fez {jogador[\"partidas\"]} jogos:')\n",
    "for i in range(0, jogador['partidas']):\n",
    "    print(f'Na partida {i}, fez {jogador[\"gols\"][i]} gols.')\n",
    "print(f'Ao todo {jogador[\"nome\"]} fez {jogador[\"total_gols\"]} gols no campeonato.')\n",
    "\n",
    "#4.1 Variação da forma #4\n",
    "print('::' * 35)\n",
    "print(f'O jogador{jogador[\"nome\"]} fez {jogador[\"partidas\"]} jogos:')\n",
    "for i, v in enumerate(jogador['gols']):\n",
    "    print(f'- Na partida {i}, fez {v} gols.')"
   ]
  }
 ],
 "metadata": {
  "kernelspec": {
   "display_name": "Python 3 (ipykernel)",
   "language": "python",
   "name": "python3"
  },
  "language_info": {
   "codemirror_mode": {
    "name": "ipython",
    "version": 3
   },
   "file_extension": ".py",
   "mimetype": "text/x-python",
   "name": "python",
   "nbconvert_exporter": "python",
   "pygments_lexer": "ipython3",
   "version": "3.9.12"
  }
 },
 "nbformat": 4,
 "nbformat_minor": 5
}
