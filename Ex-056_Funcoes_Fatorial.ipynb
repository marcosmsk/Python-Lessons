{
 "cells": [
  {
   "cell_type": "markdown",
   "id": "2f6556bd",
   "metadata": {},
   "source": [
    "### Ex-056: Funções - Exercício\n",
    "\n",
    "##### FATORIAL\n",
    "\n",
    "Faça um programa que tenha uma função fatorial() que recebe dois parâmetros: o primeiro que indique o número a calcular e o outro chamado show. que será um valor lógico (opcional) indicando se será mostrado ou não na tela o processo de cálculo do fatorial.\n",
    "\n",
    "Exercícios de videos by 'Curso em Video'"
   ]
  },
  {
   "cell_type": "code",
   "execution_count": 13,
   "id": "f2363a9d",
   "metadata": {},
   "outputs": [
    {
     "name": "stdout",
     "output_type": "stream",
     "text": [
      "6 x 5 x 4 x 3 x 2 x 1 = 720\n",
      "Help on function fatorial in module __main__:\n",
      "\n",
      "fatorial(fat, show=False)\n",
      "    Calcula o Fatorial de um número.\n",
      "    :para n: O número a ser calculado\n",
      "    :para show: (opcional) Mostrar ou não o cálculo\n",
      "    :return: O valor do Fatorial de um número fat\n",
      "\n"
     ]
    }
   ],
   "source": [
    "from time import sleep\n",
    "def fatorial(fat, show=False):\n",
    "    \"\"\"\n",
    "    Calcula o Fatorial de um número.\n",
    "    :para n: O número a ser calculado\n",
    "    :para show: (opcional) Mostrar ou não o cálculo\n",
    "    :return: O valor do Fatorial de um número fat\n",
    "    \"\"\"\n",
    "    f = 1\n",
    "    for c in range(fat, 0, -1):\n",
    "        if show:\n",
    "            print(c, end='')\n",
    "            if c > 1:\n",
    "                print(' x ', end='')\n",
    "                sleep(0.2)\n",
    "            else:\n",
    "                print(' = ', end='')\n",
    "                sleep(0.2)\n",
    "        f *= c\n",
    "    return f\n",
    "\n",
    "print(fatorial(6, show=True))\n",
    "help(fatorial)"
   ]
  }
 ],
 "metadata": {
  "kernelspec": {
   "display_name": "Python 3 (ipykernel)",
   "language": "python",
   "name": "python3"
  },
  "language_info": {
   "codemirror_mode": {
    "name": "ipython",
    "version": 3
   },
   "file_extension": ".py",
   "mimetype": "text/x-python",
   "name": "python",
   "nbconvert_exporter": "python",
   "pygments_lexer": "ipython3",
   "version": "3.9.12"
  }
 },
 "nbformat": 4,
 "nbformat_minor": 5
}
