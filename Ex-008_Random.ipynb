{
 "cells": [
  {
   "cell_type": "markdown",
   "id": "a821d0fc",
   "metadata": {},
   "source": [
    "### Ex-007: Escolha aleatória de um valor da lista\n",
    "\n",
    "Faça um programa escolher um valor dentro dos apresentados na lista\n",
    "\n",
    "Exercícios de videos by 'Curso em Video'"
   ]
  },
  {
   "cell_type": "code",
   "execution_count": 2,
   "id": "c1446be1",
   "metadata": {},
   "outputs": [
    {
     "name": "stdout",
     "output_type": "stream",
     "text": [
      "Digite o primeiro nome: a\n",
      "Digite o segundo nome: b\n",
      "Digite o terceiro nome: c\n",
      "Digite o quarto nome: d\n",
      "Os nomes para o sorteio são ['a', 'b', 'c', 'd'].\n",
      "O sorteado foi c.\n"
     ]
    }
   ],
   "source": [
    "import random\n",
    "\n",
    "n1 = str(input('Digite o primeiro nome: '))\n",
    "n2 = str(input('Digite o segundo nome: '))\n",
    "n3 = str(input('Digite o terceiro nome: '))\n",
    "n4 = str(input('Digite o quarto nome: '))\n",
    "\n",
    "lista = [n1, n2, n3, n4]\n",
    "print('Os nomes para o sorteio são {}.'.format(lista))\n",
    "\n",
    "print('O sorteado foi {}.'.format(random.choice(lista)))"
   ]
  }
 ],
 "metadata": {
  "kernelspec": {
   "display_name": "Python 3 (ipykernel)",
   "language": "python",
   "name": "python3"
  },
  "language_info": {
   "codemirror_mode": {
    "name": "ipython",
    "version": 3
   },
   "file_extension": ".py",
   "mimetype": "text/x-python",
   "name": "python",
   "nbconvert_exporter": "python",
   "pygments_lexer": "ipython3",
   "version": "3.9.12"
  }
 },
 "nbformat": 4,
 "nbformat_minor": 5
}
